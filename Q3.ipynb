{
  "nbformat": 4,
  "nbformat_minor": 0,
  "metadata": {
    "kernelspec": {
      "name": "python3",
      "display_name": "Python 3"
    },
    "language_info": {
      "codemirror_mode": {
        "name": "ipython",
        "version": 3
      },
      "file_extension": ".py",
      "mimetype": "text/x-python",
      "name": "python",
      "nbconvert_exporter": "python",
      "pygments_lexer": "ipython3",
      "version": "3.7.4"
    },
    "colab": {
      "name": "Q3.ipynb",
      "provenance": [],
      "collapsed_sections": [],
      "toc_visible": true
    },
    "accelerator": "GPU"
  },
  "cells": [
    {
      "cell_type": "code",
      "metadata": {
        "id": "WTkoaG9Jzkey",
        "colab_type": "code",
        "colab": {}
      },
      "source": [
        "import re\n",
        "from collections import Counter\n",
        "from tqdm import tqdm\n",
        "import json\n",
        "from torch.utils.data import Dataset, DataLoader\n",
        "import torch"
      ],
      "execution_count": 0,
      "outputs": []
    },
    {
      "cell_type": "markdown",
      "metadata": {
        "id": "kdhZGkwZzke2",
        "colab_type": "text"
      },
      "source": [
        "# ConvAI dataset\n",
        "\n",
        "![convai2-img](http://convai.io/personachat-example.png 'example')\n",
        "\n",
        "This is how raw input/target sample from training data looks like:\n",
        "\n",
        "```\n",
        "{\n",
        "    \"text\": \"your persona: i had a gig at local theater last night.\\nyour persona: i work as a stand up comedian.\\nyour persona: i come from a small town.\\nyour persona: my favorite drink is cuba libre.\\nyour persona: i did a few small roles in tv series.\\nwe all live in a yellow submarine , a yellow submarine . morning !\\nhi ! that is a great line for my next stand up .\\nlol . i am shy , anything to break the ice , and i am a beatles fan .\\ni can tell . i am not , you can see me in some tv shows\\nreally ? what shows ? i like tv , it makes me forget i do not like my family\\nwow , i wish i had a big family . i grew up in a very small town .\\ni did too . i do not get along with mine . they have no class .\\njust drink some cola with rum and you'll forget about them !\\nput the lime in the coconut as well . . .\\nnah , plain cuba libre , that's what we drank yesterday at the theater .\\ni prefer mojitos . watermelon or cucumber .\", \n",
        "    \"labels\": [\"those are really yummy too , but not my favorite .\"], \n",
        "    \"reward\": 0, \n",
        "    \"episode_done\": true, \n",
        "    \"id\": \"convai2:self:no_cands\"\n",
        "}\n",
        "```\n",
        "\n",
        "## Tokenization\n",
        "\n",
        "Here tokenization is done using a regular expression as in ParlAI framework (where the dataset is coming from!)"
      ]
    },
    {
      "cell_type": "code",
      "metadata": {
        "id": "RevAPsmCzke3",
        "colab_type": "code",
        "colab": {}
      },
      "source": [
        "RETOK = re.compile(r'\\w+|[^\\w\\s]|\\n', re.UNICODE)"
      ],
      "execution_count": 0,
      "outputs": []
    },
    {
      "cell_type": "code",
      "metadata": {
        "id": "W_JMpWkEzke5",
        "colab_type": "code",
        "outputId": "480ad486-e9ed-40ee-e856-b2e38f0df190",
        "colab": {
          "base_uri": "https://localhost:8080/",
          "height": 442
        }
      },
      "source": [
        "# example of parsed text\n",
        "\n",
        "RETOK.findall('your persona: i had a gig at local theater last night.\\nyour persona: i work as a stand up comedian.')"
      ],
      "execution_count": 3,
      "outputs": [
        {
          "output_type": "execute_result",
          "data": {
            "text/plain": [
              "['your',\n",
              " 'persona',\n",
              " ':',\n",
              " 'i',\n",
              " 'had',\n",
              " 'a',\n",
              " 'gig',\n",
              " 'at',\n",
              " 'local',\n",
              " 'theater',\n",
              " 'last',\n",
              " 'night',\n",
              " '.',\n",
              " '\\n',\n",
              " 'your',\n",
              " 'persona',\n",
              " ':',\n",
              " 'i',\n",
              " 'work',\n",
              " 'as',\n",
              " 'a',\n",
              " 'stand',\n",
              " 'up',\n",
              " 'comedian',\n",
              " '.']"
            ]
          },
          "metadata": {
            "tags": []
          },
          "execution_count": 3
        }
      ]
    },
    {
      "cell_type": "markdown",
      "metadata": {
        "id": "4Eh_8POhzke8",
        "colab_type": "text"
      },
      "source": [
        "# ConvAI dictionary\n",
        "\n",
        "The dataset is coming with a precomputed dictionary, it looks like this:\n",
        "\n",
        "For each word there is a corresponding count. Counts for special symbols are artificially presented / not real.\n",
        "\n",
        "```\n",
        "__null__\t1000000003\n",
        "__start__\t1000000002\n",
        "__end__\t1000000001\n",
        "__unk__\t1000000000\n",
        ".\t276863\n",
        "i\t270789\n",
        "you\t93655\n",
        "your\t91941\n",
        "a\t89140\n",
        "?\t85346\n",
        "persona\t80372\n",
        "\\n\t80365\n",
        ":\t80365\n",
        ",\t79513\n",
        "to\t79240\n",
        "my\t73999\n",
        "'\t68126\n",
        "do\t55199\n",
        "is\t53581\n",
        "the\t49955\n",
        "```\n",
        "\n",
        "`ChatDictionary` class implements the loading of that file with helpful functions."
      ]
    },
    {
      "cell_type": "code",
      "metadata": {
        "id": "7UboLeurzke9",
        "colab_type": "code",
        "colab": {}
      },
      "source": [
        "class ChatDictionary(object):\n",
        "    \"\"\"\n",
        "    Simple dict loader\n",
        "    \"\"\"\n",
        "    def __init__(self, dict_file_path):\n",
        "        self.word2ind = {}  # word:index\n",
        "        self.ind2word = {}  # index:word\n",
        "        self.counts = {}  # word:count\n",
        "\n",
        "        dict_raw = open(dict_file_path, 'r').readlines()\n",
        "        \n",
        "        for i, w in enumerate(dict_raw):\n",
        "            _word, _count = w.strip().split('\\t')\n",
        "            if _word == '\\\\n':\n",
        "                _word = '\\n'\n",
        "            self.word2ind[_word] = i\n",
        "            self.ind2word[i] = _word\n",
        "            self.counts[_word] = _count\n",
        "            \n",
        "    def t2v(self, tokenized_text):\n",
        "        return [self.word2ind[w] if w in self.counts else self.word2ind['__unk__'] for w in tokenized_text]\n",
        "\n",
        "    def v2t(self, list_ids):\n",
        "        return ' '.join([self.ind2word[i] for i in list_ids])\n",
        "    \n",
        "    def pred2text(self, tensor):\n",
        "        result = []\n",
        "        for i in range(tensor.size(0)):\n",
        "            if tensor[i].item() == '__end__'  or tensor[i].item() == '__null__':  # null is pad\n",
        "                break\n",
        "            else:\n",
        "                result.append(self.ind2word[tensor[i].item()])\n",
        "        return ' '.join(result)\n",
        "    \n",
        "    def __len__(self):\n",
        "        return len(self.counts)"
      ],
      "execution_count": 0,
      "outputs": []
    },
    {
      "cell_type": "markdown",
      "metadata": {
        "id": "o8c6mwy5zke_",
        "colab_type": "text"
      },
      "source": [
        "# Dataset class\n",
        "\n",
        "The `ChatDataset` should be familiar to all of you, nothing fancy there"
      ]
    },
    {
      "cell_type": "code",
      "metadata": {
        "id": "jGpA2vYIzkfA",
        "colab_type": "code",
        "colab": {}
      },
      "source": [
        "class ChatDataset(Dataset):\n",
        "    \"\"\"\n",
        "    Json dataset wrapper\n",
        "    \"\"\"\n",
        "    \n",
        "    def __init__(self, dataset_file_path, dictionary, dt='train'):\n",
        "        super().__init__()\n",
        "        \n",
        "        json_text = open(dataset_file_path, 'r').readlines()\n",
        "        self.samples = []\n",
        "        \n",
        "        for sample in tqdm(json_text):\n",
        "            sample = sample.rstrip()\n",
        "            sample = json.loads(sample)\n",
        "            _inp_toked = RETOK.findall(sample['text'])\n",
        "            _inp_toked_id = dictionary.t2v(_inp_toked)\n",
        "\n",
        "            sample['text_vec'] = torch.tensor(_inp_toked_id, dtype=torch.long)\n",
        "            \n",
        "            # train and valid have different key names for target\n",
        "            if dt == 'train':\n",
        "                _tar_toked = RETOK.findall(sample['labels'][0]) + ['__end__']\n",
        "            elif dt == 'valid':\n",
        "                _tar_toked = RETOK.findall(sample['eval_labels'][0]) + ['__end__']\n",
        "                \n",
        "            _tar_toked_id = dictionary.t2v(_tar_toked)\n",
        "            \n",
        "            sample['target_vec'] = torch.tensor(_tar_toked_id, dtype=torch.long)\n",
        "            \n",
        "            self.samples.append(sample)\n",
        "            \n",
        "    def __getitem__(self, i):\n",
        "        return self.samples[i]['text_vec'], self.samples[i]['target_vec']\n",
        "    \n",
        "    def __len__(self):\n",
        "        return len(self.samples)"
      ],
      "execution_count": 0,
      "outputs": []
    },
    {
      "cell_type": "markdown",
      "metadata": {
        "id": "nuMz60avzkfC",
        "colab_type": "text"
      },
      "source": [
        "# Padding, sorting, packing\n",
        "\n",
        "`pad_tensor` function implements padding of a given tensor using the specified PAD token.\n",
        "\n",
        "`argsort` reorders the given list using provided keys. This is necessary for unpacking. (see [here](https://pytorch.org/docs/master/nn.html?highlight=pack#torch.nn.utils.rnn.pack_padded_sequence))\n",
        "\n",
        "`batchify` uses both previous function to make a minibatch which is ready to be packed."
      ]
    },
    {
      "cell_type": "code",
      "metadata": {
        "id": "GtILdxv1zkfD",
        "colab_type": "code",
        "colab": {}
      },
      "source": [
        "def pad_tensor(tensors, sort=True, pad_token=0):\n",
        "    rows = len(tensors)\n",
        "    lengths = [len(i) for i in tensors]\n",
        "    max_t = max(lengths)\n",
        "        \n",
        "    output = tensors[0].new(rows, max_t)\n",
        "    output.fill_(pad_token)  # 0 is a pad token here\n",
        "    \n",
        "    for i, (tensor, length) in enumerate(zip(tensors, lengths)):\n",
        "        output[i,:length] = tensor\n",
        "\n",
        "    return output, lengths\n",
        "\n",
        "def argsort(keys, *lists, descending=False):\n",
        "    \"\"\"Reorder each list in lists by the (descending) sorted order of keys.\n",
        "    :param iter keys: Keys to order by.\n",
        "    :param list[list] lists: Lists to reordered by keys's order.\n",
        "                             Correctly handles lists and 1-D tensors.\n",
        "    :param bool descending: Use descending order if true.\n",
        "    :returns: The reordered items.\n",
        "    \"\"\"\n",
        "    ind_sorted = sorted(range(len(keys)), key=lambda k: keys[k])\n",
        "    if descending:\n",
        "        ind_sorted = list(reversed(ind_sorted))\n",
        "    output = []\n",
        "    for lst in lists:\n",
        "        if isinstance(lst, torch.Tensor):\n",
        "            output.append(lst[ind_sorted])\n",
        "        else:\n",
        "            output.append([lst[i] for i in ind_sorted])\n",
        "    return output\n",
        "\n",
        "def batchify(batch):\n",
        "    inputs = [i[0] for i in batch]\n",
        "    labels = [i[1] for i in batch]\n",
        "    \n",
        "    input_vecs, input_lens = pad_tensor(inputs)\n",
        "    label_vecs, label_lens = pad_tensor(labels)\n",
        "    \n",
        "    # sort only wrt inputs here for encoder packinng\n",
        "    input_vecs, input_lens, label_vecs, label_lens = argsort(input_lens, input_vecs, input_lens, label_vecs, label_lens, descending=True)\n",
        "\n",
        "    return {\n",
        "        \"text_vecs\": input_vecs,\n",
        "        \"text_lens\": input_lens,\n",
        "        \"target_vecs\": label_vecs,\n",
        "        \"target_lens\": label_lens\n",
        "    }"
      ],
      "execution_count": 0,
      "outputs": []
    },
    {
      "cell_type": "code",
      "metadata": {
        "id": "p8PmLljdzkfF",
        "colab_type": "code",
        "outputId": "c98d03da-5aeb-4bb4-9814-ec25bde7edff",
        "colab": {
          "base_uri": "https://localhost:8080/",
          "height": 51
        }
      },
      "source": [
        "# loading datasets and dictionary\n",
        "\n",
        "# downloading pretrained models and data\n",
        "\n",
        "### DOWNLOADING THE FILES\n",
        "import os\n",
        "\n",
        "### persona chat dataset\n",
        "if not os.path.exists('./dict'):\n",
        "    !wget \"https://nyu.box.com/shared/static/sj9f87tofpicll89xbc154pmbztu5q4h\" -O './dict'\n",
        "if not os.path.exists('./train.jsonl'):\n",
        "    !wget \"https://nyu.box.com/shared/static/aqp0jyjaixjmukm5asasivq2bcfze075.jsonl\" -O './train.jsonl'\n",
        "if not os.path.exists('./valid.jsonl'):\n",
        "    !wget \"https://nyu.box.com/shared/static/eg4ivddtqib2hkf1k8rkxnmzmo0cq27p.jsonl\" -O './valid.jsonl'\n",
        "\n",
        "if not os.path.exists('./chat_model_best_22.pt'):\n",
        "    !wget \"https://nyu.box.com/shared/static/24zsynuks8nzg7530tgakzh8o62id9xa.pt\" -O './chat_model_best_22.pt'\n",
        "\n",
        "chat_dict = ChatDictionary('./dict')\n",
        "train_dataset = ChatDataset('./train.jsonl', chat_dict)\n",
        "valid_dataset = ChatDataset('./valid.jsonl', chat_dict, 'valid')"
      ],
      "execution_count": 7,
      "outputs": [
        {
          "output_type": "stream",
          "text": [
            "100%|██████████| 131438/131438 [00:14<00:00, 9250.50it/s] \n",
            "100%|██████████| 7801/7801 [00:00<00:00, 9130.19it/s]\n"
          ],
          "name": "stderr"
        }
      ]
    },
    {
      "cell_type": "code",
      "metadata": {
        "id": "k-1axU0H8XlI",
        "colab_type": "code",
        "outputId": "a8072ba4-3914-47fd-bdf1-75372d306b75",
        "colab": {
          "base_uri": "https://localhost:8080/",
          "height": 34
        }
      },
      "source": [
        "len(train_dataset)"
      ],
      "execution_count": 8,
      "outputs": [
        {
          "output_type": "execute_result",
          "data": {
            "text/plain": [
              "131438"
            ]
          },
          "metadata": {
            "tags": []
          },
          "execution_count": 8
        }
      ]
    },
    {
      "cell_type": "code",
      "metadata": {
        "id": "owl9sDsrzkfH",
        "colab_type": "code",
        "colab": {}
      },
      "source": [
        "train_loader = DataLoader(train_dataset, shuffle=True, collate_fn=batchify, batch_size=256)\n",
        "valid_loader = DataLoader(valid_dataset, shuffle=False, collate_fn=batchify, batch_size=256)"
      ],
      "execution_count": 0,
      "outputs": []
    },
    {
      "cell_type": "code",
      "metadata": {
        "id": "8qjSc8aPzkfK",
        "colab_type": "code",
        "colab": {}
      },
      "source": [
        "import torch.nn as nn\n",
        "from torch.nn.utils.rnn import pack_padded_sequence, pad_packed_sequence\n",
        "\n",
        "class EncoderTransformer(nn.Module):\n",
        "    def __init__(self,vocab_size,max_len,shared_lt,dropout,dim=256, num_layers=2, nhead=4,pad_idx=0):\n",
        "      # you need to add more things here\n",
        "      super().__init__()\n",
        "      self.token_embed = shared_lt\n",
        "      #self.token_embed = nn.Embedding(vocab_size, dim)\n",
        "      self.position_embed = nn.Embedding(max_len, dim)\n",
        "      encoder_layer = nn.TransformerEncoderLayer(d_model=dim, nhead=nhead)\n",
        "      self.transformer = nn.TransformerEncoder(encoder_layer, num_layers=num_layers)\n",
        "      self.pad_idx = pad_idx\n",
        "      self.dropout = nn.Dropout(p=dropout)\n",
        "      \n",
        "\n",
        "    def forward(self, text_vec):\n",
        "      pos = torch.arange(text_vec.size(1), device=text_vec.device).repeat(1,text_vec.size(0)).view(-1,text_vec.size(1))#.unsqueeze(1)\n",
        "      #print(self.token_embed(text_vec))\n",
        "      #print(self.position_embed(pos))\n",
        "      output = torch.add(self.token_embed(text_vec),self.position_embed(pos)).to(current_device)\n",
        "      output = self.dropout(output)\n",
        "      #print(output)\n",
        "      #print(text_vec.shape)\n",
        "      #print(output.shape)\n",
        "      attention_mask = text_vec.eq(self.pad_idx)\n",
        "      \n",
        "      x = self.transformer(output.transpose(0,1),src_key_padding_mask=attention_mask)\n",
        "      #print(output.shape)\n",
        "      x.transpose_(0,1)\n",
        "      #print(x.shape)\n",
        "      hidden = torch.mean(x,dim=1,keepdim=True).transpose(0,1)\n",
        "      return x, hidden , attention_mask\n",
        "\n",
        "\n",
        "    \n",
        "class DecoderRNN(nn.Module):\n",
        "    \"\"\"Generates a sequence of tokens in response to context.\"\"\"\n",
        "\n",
        "    def __init__(self, vocab_size, embed_size, hidden_size, num_layers, dropout=0):\n",
        "        super().__init__()\n",
        "        self.vocab_size = vocab_size\n",
        "        self.embed_size = embed_size\n",
        "        self.hidden_size = hidden_size\n",
        "        self.num_layers = num_layers\n",
        "        self.dropout = nn.Dropout(p=dropout)\n",
        "        \n",
        "        self.embedding = nn.Embedding(self.vocab_size, self.embed_size, 0)\n",
        "        \n",
        "        self.gru = nn.GRU(\n",
        "            self.embed_size, self.hidden_size, num_layers=self.num_layers, batch_first=True, dropout=dropout if num_layers > 1 else 0,\n",
        "        )\n",
        "        \n",
        "        self.attention = AttentionLayer(self.hidden_size, self.embed_size)\n",
        "\n",
        "        self.out = nn.Linear(self.hidden_size, self.vocab_size)\n",
        "        self.longest_label = 100\n",
        "\n",
        "    def forward(self, text_vec, decoder_hidden, encoder_states):\n",
        "        emb = self.embedding(text_vec)\n",
        "        emb = self.dropout(emb)\n",
        "        seqlen = text_vec.size(1)\n",
        "        encoder_output, encoder_hidden, attention_mask = encoder_states\n",
        "        \n",
        "        decoder_hidden = decoder_hidden\n",
        "        output = []\n",
        "        attn_w_log = []\n",
        "\n",
        "        for i in range(seqlen):\n",
        "            decoder_output, decoder_hidden = self.gru(emb[:,i,:].unsqueeze(1), decoder_hidden)\n",
        "            \n",
        "            # compute attention at each time step\n",
        "            decoder_output_attended, attn_weights = self.attention(decoder_output, decoder_hidden, encoder_output, attention_mask)\n",
        "            output.append(decoder_output_attended)\n",
        "            attn_w_log.append(attn_weights)\n",
        "            \n",
        "        output = torch.cat(output, dim=1).to(text_vec.device)\n",
        "        scores = self.out(output)\n",
        "        \n",
        "        return scores, decoder_hidden, attn_w_log\n",
        "    \n",
        "    def decode_forced(self, ys, encoder_states, xs_lens):\n",
        "        encoder_output, encoder_hidden, attention_mask = encoder_states\n",
        "        \n",
        "        batch_size = ys.size(0)\n",
        "        target_length = ys.size(1)\n",
        "        longest_label = max(target_length, self.longest_label)\n",
        "        \n",
        "        starts = torch.Tensor([1]).long().to(self.embedding.weight.device).expand(batch_size, 1).long()  # expand to batch size\n",
        "        \n",
        "        # Teacher forcing: Feed the target as the next input\n",
        "        y_in = ys.narrow(1, 0, ys.size(1) - 1)\n",
        "        decoder_input = torch.cat([starts, y_in], 1)\n",
        "        decoder_output, decoder_hidden, attn_w_log = self.forward(decoder_input, encoder_hidden, encoder_states)\n",
        "        _, preds = decoder_output.max(dim=2)\n",
        "        \n",
        "        return decoder_output, preds, attn_w_log\n",
        "    \n",
        "    \n",
        "class AttentionLayer(nn.Module):\n",
        "\n",
        "    def __init__(self, hidden_size, embedding_size):\n",
        "        super().__init__()\n",
        "        input_dim = hidden_size\n",
        "\n",
        "        self.linear_out = nn.Linear(hidden_size+input_dim, input_dim, bias=False)\n",
        "        self.softmax = nn.Softmax(dim=-1)\n",
        "        self.tanh = nn.Tanh()\n",
        "\n",
        "    def forward(self, decoder_output, decoder_hidden, encoder_output, attention_mask):\n",
        "\n",
        "        batch_size, seq_length, hidden_size = encoder_output.size()\n",
        "\n",
        "        encoder_output_t = encoder_output.transpose(1,2)\n",
        "        \n",
        "        attention_scores = torch.bmm(decoder_output, encoder_output_t).squeeze(1)\n",
        "\n",
        "        attention_scores.masked_fill_((attention_mask), -10e5)\n",
        "        attention_weights = self.softmax(attention_scores)\n",
        "\n",
        "        mix = torch.bmm(attention_weights.unsqueeze(1), encoder_output)\n",
        "\n",
        "        combined = torch.cat((decoder_output.squeeze(1), mix.squeeze(1)), dim=1)\n",
        "\n",
        "        output = self.linear_out(combined).unsqueeze(1)\n",
        "        output = self.tanh(output)\n",
        "\n",
        "        return output, attention_weights\n",
        "    \n",
        "    \n",
        "class seq2seq(nn.Module):\n",
        "    \"\"\"\n",
        "    Generic seq2seq model with attention mechanism.\n",
        "    \"\"\"\n",
        "    def __init__(self, opts):\n",
        "\n",
        "        super().__init__()\n",
        "        self.opts = opts\n",
        "        \n",
        "        self.decoder = DecoderRNN(\n",
        "                                    vocab_size=self.opts['vocab_size'],\n",
        "                                    embed_size=self.opts['embedding_size'],\n",
        "                                    hidden_size=self.opts['hidden_size'],\n",
        "                                    num_layers=self.opts['num_layers_dec'],\n",
        "                                    dropout=self.opts['dropout'],\n",
        "                                )\n",
        "        \n",
        "        self.encoder = EncoderTransformer(\n",
        "                                    vocab_size=self.opts['vocab_size'],\n",
        "                                    max_len = 10000,shared_lt = self.decoder.embedding,dropout=self.opts[\"dropout\"]\n",
        "                                    #embed_size=self.opts['embedding_size'],\n",
        "                                    #hidden_size=self.opts['hidden_size'],\n",
        "                                    #num_layers=self.opts['num_layers_enc'],\n",
        "                                    #dropout=self.opts['dropout'],\n",
        "                                    #shared_lt=self.decoder.embedding\n",
        "        )\n",
        "        \n",
        "    def train(self):\n",
        "        self.encoder.train()\n",
        "        self.decoder.train()\n",
        "        \n",
        "    def eval(self):\n",
        "        self.encoder.eval()\n",
        "        self.decoder.eval()"
      ],
      "execution_count": 0,
      "outputs": []
    },
    {
      "cell_type": "code",
      "metadata": {
        "id": "tynCTwJUzkfN",
        "colab_type": "code",
        "colab": {}
      },
      "source": [
        "model_pt = torch.load(\"transformer_model_best_5.pt\")\n",
        "model = seq2seq(model_pt[\"opts\"])\n",
        "model.load_state_dict(model_pt[\"state_dict\"])\n",
        "model.to(current_device)\n",
        "num_gpus = torch.cuda.device_count()\n",
        "if num_gpus > 0:\n",
        "    current_device = 'cuda'\n",
        "else:\n",
        "    current_device = 'cpu'"
      ],
      "execution_count": 0,
      "outputs": []
    },
    {
      "cell_type": "code",
      "metadata": {
        "id": "kujBt7vJ3cjX",
        "colab_type": "code",
        "colab": {}
      },
      "source": [
        "import torch.nn.functional as F\n",
        "def nucleus_sampling(logits,p=0.0,filter_value=-float('Inf')):\n",
        "  # https://medium.com/huggingface/how-to-build-a-state-of-the-art-conversational-ai-with-transfer-learning-2d818ac26313\n",
        "    sorted_logits, sorted_indices = torch.sort(logits, descending=True)\n",
        "    cumulative_probs = torch.cumsum(F.softmax(sorted_logits, dim=-1), dim=-1)\n",
        "\n",
        "    # Remove tokens with cumulative probability above the threshold\n",
        "    sorted_indices_to_remove = cumulative_probs > p\n",
        "    # Shift the indices to the right to keep also the first token above the threshold\n",
        "    sorted_indices_to_remove[1:] = sorted_indices_to_remove[:-1].clone()\n",
        "    sorted_indices_to_remove[0] = 0\n",
        "\n",
        "    indices_to_remove = sorted_indices[sorted_indices_to_remove]\n",
        "    logits[indices_to_remove] = filter_value\n",
        "    return logits\n"
      ],
      "execution_count": 0,
      "outputs": []
    },
    {
      "cell_type": "code",
      "metadata": {
        "id": "If3v5BTT3dBl",
        "colab_type": "code",
        "colab": {}
      },
      "source": [
        "import numpy as np\n",
        "def greedy_search(model, batch, batch_size,p):\n",
        "    model.eval()\n",
        "        \n",
        "    text_vecs = batch['text_vecs'].to(current_device)\n",
        "    encoded = model.encoder(text_vecs)\n",
        "    \n",
        "    encoder_output, encoder_hidden, attention_mask = encoded\n",
        "        \n",
        "    # 1 is __start__\n",
        "    starts = torch.Tensor([1]).long().to(model.decoder.embedding.weight.device).expand(batch_size, 1).long()  # expand to batch size\n",
        "    decoder_hidden = encoder_hidden\n",
        "\n",
        "    # greedy decoding here        \n",
        "    preds = [starts.view(-1)]\n",
        "    scores = []\n",
        "    log_prob = 0.0\n",
        "    # track if each sample in the mini batch is finished\n",
        "    # if all finished, stop predicting\n",
        "    finish_mask = torch.Tensor([0]*batch_size).byte().to(model.decoder.embedding.weight.device)\n",
        "    xs = starts\n",
        "    _attn_w_log = []\n",
        "\n",
        "    for ts in range(100):\n",
        "        decoder_output, decoder_hidden, attn_w_log = model.decoder(xs.view(1,-1), decoder_hidden, encoded)  # decoder_output: [batch, time, vocab]\n",
        "        temp = F.softmax(decoder_output.view(-1),dim=-1)\n",
        "        logits = nucleus_sampling(decoder_output.view(-1),p=p)\n",
        "        prob_dist = F.softmax(logits,dim=-1)\n",
        "        _preds = torch.multinomial(prob_dist,1)\n",
        "        _scores = temp[_preds.item()]\n",
        "        log_prob += np.log(_scores.item())\n",
        "        preds.append(_preds)\n",
        "        _attn_w_log.append(attn_w_log)\n",
        "        scores.append(_scores.view(-1)*(finish_mask == 0).float())\n",
        "\n",
        "        finish_mask += (_preds == 2).byte().view(-1)\n",
        "        if not (torch.any(~finish_mask.bool())):\n",
        "            break\n",
        "        \n",
        "        xs = _preds\n",
        "    preds = torch.cat(preds, dim=-1)\n",
        "    preds = preds[1:-1]    \n",
        "    return scores, preds, log_prob"
      ],
      "execution_count": 0,
      "outputs": []
    },
    {
      "cell_type": "code",
      "metadata": {
        "id": "O5zCJzaI6lGG",
        "colab_type": "code",
        "outputId": "c10b3e5c-2839-4c23-9aca-d8917c7e386e",
        "colab": {
          "base_uri": "https://localhost:8080/",
          "height": 34
        }
      },
      "source": [
        "def dump_input(inputs,chat_dict):\n",
        "  inputs = inputs + \" \\n\"\n",
        "  RETOK.findall(inputs)\n",
        "  return chat_dict.t2v(RETOK.findall(inputs))\n",
        "\n",
        "inputs = \"i am listening to music.\"\n",
        "dump_input(inputs,chat_dict)\n",
        "  "
      ],
      "execution_count": 19,
      "outputs": [
        {
          "output_type": "execute_result",
          "data": {
            "text/plain": [
              "[5, 28, 333, 14, 75, 4, 11]"
            ]
          },
          "metadata": {
            "tags": []
          },
          "execution_count": 19
        }
      ]
    },
    {
      "cell_type": "code",
      "metadata": {
        "id": "ObQkDfZsC4DA",
        "colab_type": "code",
        "outputId": "9d9d4314-223d-464d-a72b-7ba20907c414",
        "colab": {
          "base_uri": "https://localhost:8080/",
          "height": 425
        }
      },
      "source": [
        "answers = [\"i don't care.\",\"i am a rapper.\",\"what are you doing?\", \"i don't know man.\"]\n",
        "raw_inputs = \"your persona : i play basketball . \\n your persona : i ' m a singer as my second job . \\n your persona : i only eat vegetable . \\n your persona : i was raised in a single parent household .  \\n your persona : i am from mexico . \\n your persona : i love america . \\n hello how are doing today ?\"\n",
        "inputs = dump_input(raw_inputs,chat_dict)\n",
        "turn = 0\n",
        "isModel = True\n",
        "print(raw_inputs,\"\\n\")\n",
        "while turn < len(answers):\n",
        "  test_batch = {\n",
        "    'text_vecs': torch.tensor([inputs], dtype=torch.long, device=model.decoder.embedding.weight.device),\n",
        "    'text_lens': torch.tensor([len(inputs)], dtype=torch.long)\n",
        "}\n",
        "  if isModel:\n",
        "    scores, preds, log_prob = greedy_search(model, test_batch, 1,0.5)\n",
        "    inputs = inputs + preds.tolist() + [chat_dict.word2ind[\"\\n\"]]\n",
        "    print(\"model: \",chat_dict.v2t(preds.tolist()),\"\\n\")\n",
        "  else:\n",
        "    inputs = inputs + dump_input(answers[turn],chat_dict)\n",
        "    print(\"human: \",answers[turn],\"\\n\")\n",
        "    turn += 1\n",
        "  isModel = not isModel\n"
      ],
      "execution_count": 22,
      "outputs": [
        {
          "output_type": "stream",
          "text": [
            "your persona : i play basketball . \n",
            " your persona : i ' m a singer as my second job . \n",
            " your persona : i only eat vegetable . \n",
            " your persona : i was raised in a single parent household .  \n",
            " your persona : i am from mexico . \n",
            " your persona : i love america . \n",
            " hello how are doing today ? \n",
            "\n",
            "model:  i am great , i am planning my next third trip to florida . \n",
            "\n",
            "human:  i don't care. \n",
            "\n",
            "model:  i ' m from california . i work in the local doctors office . \n",
            "\n",
            "human:  i am a rapper. \n",
            "\n",
            "model:  yes . i am an artist , so i ' m not a fan of the country . \n",
            "\n",
            "human:  what are you doing? \n",
            "\n",
            "model:  i am a student , so i cannot stand dust . \n",
            "\n",
            "human:  i don't know man. \n",
            "\n"
          ],
          "name": "stdout"
        }
      ]
    },
    {
      "cell_type": "code",
      "metadata": {
        "id": "YHFAAVkPHAVH",
        "colab_type": "code",
        "colab": {}
      },
      "source": [
        ""
      ],
      "execution_count": 0,
      "outputs": []
    }
  ]
}