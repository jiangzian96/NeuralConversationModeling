{
  "nbformat": 4,
  "nbformat_minor": 0,
  "metadata": {
    "kernelspec": {
      "name": "python3",
      "display_name": "Python 3"
    },
    "language_info": {
      "codemirror_mode": {
        "name": "ipython",
        "version": 3
      },
      "file_extension": ".py",
      "mimetype": "text/x-python",
      "name": "python",
      "nbconvert_exporter": "python",
      "pygments_lexer": "ipython3",
      "version": "3.7.4"
    },
    "colab": {
      "name": "Q2_draft.ipynb",
      "provenance": [],
      "collapsed_sections": []
    },
    "accelerator": "GPU"
  },
  "cells": [
    {
      "cell_type": "markdown",
      "metadata": {
        "id": "QDg7gvt9sU9G",
        "colab_type": "text"
      },
      "source": [
        "# Homework 4: Conversation Modeling and decoding"
      ]
    },
    {
      "cell_type": "markdown",
      "metadata": {
        "id": "mgXOsWI0sU9Z",
        "colab_type": "text"
      },
      "source": [
        "# Part 2 Decoding"
      ]
    },
    {
      "cell_type": "markdown",
      "metadata": {
        "id": "9C4WkHICsU9Z",
        "colab_type": "text"
      },
      "source": [
        "# 2.1 Nucleus Sampling"
      ]
    },
    {
      "cell_type": "code",
      "metadata": {
        "id": "oTHPTC9PsU9a",
        "colab_type": "code",
        "colab": {}
      },
      "source": [
        "# implement nucleus sampling here.\n",
        "# you must cite any code you use from other sources!"
      ],
      "execution_count": 0,
      "outputs": []
    },
    {
      "cell_type": "code",
      "metadata": {
        "id": "T5h7kaKc0CEN",
        "colab_type": "code",
        "colab": {}
      },
      "source": [
        "import re\n",
        "from collections import Counter\n",
        "from tqdm import tqdm\n",
        "import json\n",
        "from torch.utils.data import Dataset, DataLoader\n",
        "import torch"
      ],
      "execution_count": 0,
      "outputs": []
    },
    {
      "cell_type": "code",
      "metadata": {
        "id": "-H1kwsMp0CHK",
        "colab_type": "code",
        "colab": {}
      },
      "source": [
        "RETOK = re.compile(r'\\w+|[^\\w\\s]|\\n', re.UNICODE)"
      ],
      "execution_count": 0,
      "outputs": []
    },
    {
      "cell_type": "code",
      "metadata": {
        "id": "sKx6rV-N0CJT",
        "colab_type": "code",
        "colab": {}
      },
      "source": [
        "class ChatDictionary(object):\n",
        "    \"\"\"\n",
        "    Simple dict loader\n",
        "    \"\"\"\n",
        "    def __init__(self, dict_file_path):\n",
        "        self.word2ind = {}  # word:index\n",
        "        self.ind2word = {}  # index:word\n",
        "        self.counts = {}  # word:count\n",
        "\n",
        "        dict_raw = open(dict_file_path, 'r').readlines()\n",
        "        \n",
        "        for i, w in enumerate(dict_raw):\n",
        "            _word, _count = w.strip().split('\\t')\n",
        "            if _word == '\\\\n':\n",
        "                _word = '\\n'\n",
        "            self.word2ind[_word] = i\n",
        "            self.ind2word[i] = _word\n",
        "            self.counts[_word] = _count\n",
        "            \n",
        "    def t2v(self, tokenized_text):\n",
        "        return [self.word2ind[w] if w in self.counts else self.word2ind['__unk__'] for w in tokenized_text]\n",
        "\n",
        "    def v2t(self, list_ids):\n",
        "        return ' '.join([self.ind2word[i] for i in list_ids])\n",
        "    \n",
        "    def pred2text(self, tensor):\n",
        "        result = []\n",
        "        for i in range(tensor.size(0)):\n",
        "            if tensor[i].item() == '__end__'  or tensor[i].item() == '__null__':  # null is pad\n",
        "                break\n",
        "            else:\n",
        "                result.append(self.ind2word[tensor[i].item()])\n",
        "        return ' '.join(result)\n",
        "    \n",
        "    def __len__(self):\n",
        "        return len(self.counts)"
      ],
      "execution_count": 0,
      "outputs": []
    },
    {
      "cell_type": "code",
      "metadata": {
        "id": "TSOUWDlI0CN6",
        "colab_type": "code",
        "colab": {}
      },
      "source": [
        "class ChatDataset(Dataset):\n",
        "    \"\"\"\n",
        "    Json dataset wrapper\n",
        "    \"\"\"\n",
        "    \n",
        "    def __init__(self, dataset_file_path, dictionary, dt='train'):\n",
        "        super().__init__()\n",
        "        \n",
        "        json_text = open(dataset_file_path, 'r').readlines()\n",
        "        self.samples = []\n",
        "        \n",
        "        for sample in tqdm(json_text):\n",
        "            sample = sample.rstrip()\n",
        "            sample = json.loads(sample)\n",
        "            _inp_toked = RETOK.findall(sample['text'])\n",
        "            _inp_toked_id = dictionary.t2v(_inp_toked)\n",
        "\n",
        "            sample['text_vec'] = torch.tensor(_inp_toked_id, dtype=torch.long)\n",
        "            \n",
        "            # train and valid have different key names for target\n",
        "            if dt == 'train':\n",
        "                _tar_toked = RETOK.findall(sample['labels'][0]) + ['__end__']\n",
        "            elif dt == 'valid':\n",
        "                _tar_toked = RETOK.findall(sample['eval_labels'][0]) + ['__end__']\n",
        "                \n",
        "            _tar_toked_id = dictionary.t2v(_tar_toked)\n",
        "            \n",
        "            sample['target_vec'] = torch.tensor(_tar_toked_id, dtype=torch.long)\n",
        "            \n",
        "            self.samples.append(sample)\n",
        "            \n",
        "    def __getitem__(self, i):\n",
        "        return self.samples[i]['text_vec'], self.samples[i]['target_vec']\n",
        "    \n",
        "    def __len__(self):\n",
        "        return len(self.samples)"
      ],
      "execution_count": 0,
      "outputs": []
    },
    {
      "cell_type": "code",
      "metadata": {
        "id": "giGSW-X90CQW",
        "colab_type": "code",
        "colab": {}
      },
      "source": [
        "def pad_tensor(tensors, sort=True, pad_token=0):\n",
        "    rows = len(tensors)\n",
        "    lengths = [len(i) for i in tensors]\n",
        "    max_t = max(lengths)\n",
        "        \n",
        "    output = tensors[0].new(rows, max_t)\n",
        "    output.fill_(pad_token)  # 0 is a pad token here\n",
        "    \n",
        "    for i, (tensor, length) in enumerate(zip(tensors, lengths)):\n",
        "        output[i,:length] = tensor\n",
        "\n",
        "    return output, lengths\n",
        "\n",
        "def argsort(keys, *lists, descending=False):\n",
        "    \"\"\"Reorder each list in lists by the (descending) sorted order of keys.\n",
        "    :param iter keys: Keys to order by.\n",
        "    :param list[list] lists: Lists to reordered by keys's order.\n",
        "                             Correctly handles lists and 1-D tensors.\n",
        "    :param bool descending: Use descending order if true.\n",
        "    :returns: The reordered items.\n",
        "    \"\"\"\n",
        "    ind_sorted = sorted(range(len(keys)), key=lambda k: keys[k])\n",
        "    if descending:\n",
        "        ind_sorted = list(reversed(ind_sorted))\n",
        "    output = []\n",
        "    for lst in lists:\n",
        "        if isinstance(lst, torch.Tensor):\n",
        "            output.append(lst[ind_sorted])\n",
        "        else:\n",
        "            output.append([lst[i] for i in ind_sorted])\n",
        "    return output\n",
        "\n",
        "def batchify(batch):\n",
        "    inputs = [i[0] for i in batch]\n",
        "    labels = [i[1] for i in batch]\n",
        "    \n",
        "    input_vecs, input_lens = pad_tensor(inputs)\n",
        "    label_vecs, label_lens = pad_tensor(labels)\n",
        "    \n",
        "    # sort only wrt inputs here for encoder packinng\n",
        "    input_vecs, input_lens, label_vecs, label_lens = argsort(input_lens, input_vecs, input_lens, label_vecs, label_lens, descending=True)\n",
        "\n",
        "    return {\n",
        "        \"text_vecs\": input_vecs,\n",
        "        \"text_lens\": input_lens,\n",
        "        \"target_vecs\": label_vecs,\n",
        "        \"target_lens\": label_lens,\n",
        "        'use_packed': True\n",
        "    }"
      ],
      "execution_count": 0,
      "outputs": []
    },
    {
      "cell_type": "code",
      "metadata": {
        "id": "kov9D0Nl0H8P",
        "colab_type": "code",
        "outputId": "62730143-562a-480e-9f36-70c392a76250",
        "colab": {
          "base_uri": "https://localhost:8080/",
          "height": 1000
        }
      },
      "source": [
        "# loading datasets and dictionary\n",
        "\n",
        "# downloading pretrained models and data\n",
        "\n",
        "### DOWNLOADING THE FILES\n",
        "import os\n",
        "\n",
        "### persona chat dataset\n",
        "if not os.path.exists('./dict'):\n",
        "    !wget \"https://nyu.box.com/shared/static/sj9f87tofpicll89xbc154pmbztu5q4h\" -O './dict'\n",
        "if not os.path.exists('./train.jsonl'):\n",
        "    !wget \"https://nyu.box.com/shared/static/aqp0jyjaixjmukm5asasivq2bcfze075.jsonl\" -O './train.jsonl'\n",
        "if not os.path.exists('./valid.jsonl'):\n",
        "    !wget \"https://nyu.box.com/shared/static/eg4ivddtqib2hkf1k8rkxnmzmo0cq27p.jsonl\" -O './valid.jsonl'\n",
        "\n",
        "if not os.path.exists('./chat_model_best_22.pt'):\n",
        "    !wget \"https://nyu.box.com/shared/static/24zsynuks8nzg7530tgakzh8o62id9xa.pt\" -O './chat_model_best_22.pt'\n",
        "\n",
        "chat_dict = ChatDictionary('./dict')\n",
        "train_dataset = ChatDataset('./train.jsonl', chat_dict)\n",
        "valid_dataset = ChatDataset('./valid.jsonl', chat_dict, 'valid')"
      ],
      "execution_count": 0,
      "outputs": [
        {
          "output_type": "stream",
          "text": [
            "--2019-11-12 01:34:27--  https://nyu.box.com/shared/static/sj9f87tofpicll89xbc154pmbztu5q4h\n",
            "Resolving nyu.box.com (nyu.box.com)... 185.235.236.197\n",
            "Connecting to nyu.box.com (nyu.box.com)|185.235.236.197|:443... connected.\n",
            "HTTP request sent, awaiting response... 301 Moved Permanently\n",
            "Location: /public/static/sj9f87tofpicll89xbc154pmbztu5q4h [following]\n",
            "--2019-11-12 01:34:28--  https://nyu.box.com/public/static/sj9f87tofpicll89xbc154pmbztu5q4h\n",
            "Reusing existing connection to nyu.box.com:443.\n",
            "HTTP request sent, awaiting response... 301 Moved Permanently\n",
            "Location: https://nyu.app.box.com/public/static/sj9f87tofpicll89xbc154pmbztu5q4h [following]\n",
            "--2019-11-12 01:34:28--  https://nyu.app.box.com/public/static/sj9f87tofpicll89xbc154pmbztu5q4h\n",
            "Resolving nyu.app.box.com (nyu.app.box.com)... 185.235.236.199\n",
            "Connecting to nyu.app.box.com (nyu.app.box.com)|185.235.236.199|:443... connected.\n",
            "HTTP request sent, awaiting response... 302 Found\n",
            "Location: https://public.boxcloud.com/d/1/b1!-iiF2wevgy6gx2HaIG225qORNfLeQbNeqS4BIY2QKZn9p4hzvQHO1j1775NBAKplzVgLZIIhmb060ZUsCSCNTE-Nom0ziThDqLjwymURWkBhzCXOtgwlkjTW8MTxHt2NM--_P7OsgLVdA6EBDZqy6yCCK2YWi8qAs_vDvybppnzySTyYTy7X3SF3xX2wFS97dQ09CQsb7MUYk5Bu4U4gCVAYqRRf8bUqQcBS0AdxaOuNUZqhAqKsZ9XahbCFi_gusWNul0FMgCrZo-NvMT1YkP9-lVJUHlVj74HlbKFUYLOQC1Rm6GgNae8nUZc-omEMI2FRV2So-o-wsYfMDHvckZxc2H1gQwbYTpRNkz7dQRsWKP5RjGAyogJ4eZZDC75Hcy7qeSJ-b31Mg2xEd3wyfmU56fDT_f4FD8czRksQsdkfKKuPIuk2hOoqxNIYZzHGMdT9AcJ_CL9Na6Ekv4xcW1YWbYEbwtInOXH3DIP1p6qpxml1meXBm9z3LzedFZ1I7JlzsPyFRlCVFtXihIIV-ACtyr4hFpytO_0O5gT69SE92-xhzeh6ZoTnCvYUp6deyJhy8ykicIme8mA4scEi2JeciUloctNNmlQVgxFZHdCNtA2SNrDMFcIl2J5FbWjjixq36JnY8LwpZiV-ZdIsg1zsUNwgxHJJy8ZSt3GHEDkf3YfC4L1f3Z0S5fowr0AOaIkfoIj2nJI7BW8BZDuhoC7sLFAdT3R4mayRwu9LTtXARgWDms1q5wY_NvrwEugCwaUeFnzbqVlq2eTs_W4kDBC6baAi0POYTwWE11X2Xmoos77h9ICPVuJRPyaazxrw0t6NTv7WL8ZOk0_YJExBOErbKRPRlqYaynP_CQIdem1y4nj7ZRVNkJFr-rrsmi05cxaUOnKSNTDXAAV044A0XSFrfOc9kURcxjg8LIQ4RMAY_JIl-hBvnBzF0ORDd-Nh1na0hq2GIXLX8-T2ED4-YOZ_BCw1UcdawPaeq2PUwZ8xJD4sxkbcM2gc9k2WJF7TI8jaX99Q1oxcb2E829ghR0qveOiJtUA8GShZeD9P4u2vVGDm3Sirlxi9hKtQpjF6z-Deg0Xd-DTz4KAl6164zlaulMcIZKdB8ScbWQowJCSMggESEetnilDJ8uzwMso7nsVYGn0M8TL2BnG2zJ7USd_K_s7Ms_QeWRk-8YO2lrFvGNRJj0sSgww7DjoisHYrsW6B72YXB82AzwfaFY3-Z5JB7PMTB24INPImCTHSBUVm_1ouOAjCdpG44lS405BPyF_HC0mbqFqGRhWuAcnLSl9SlmKXQ54jJrGHgak-RmbY92ygNqc7CquoXeehZ6RsoiytrRcbDyt2fz9oDe0IMMgRPnF4-Oko_hnMValRaUAGMg../download [following]\n",
            "--2019-11-12 01:34:29--  https://public.boxcloud.com/d/1/b1!-iiF2wevgy6gx2HaIG225qORNfLeQbNeqS4BIY2QKZn9p4hzvQHO1j1775NBAKplzVgLZIIhmb060ZUsCSCNTE-Nom0ziThDqLjwymURWkBhzCXOtgwlkjTW8MTxHt2NM--_P7OsgLVdA6EBDZqy6yCCK2YWi8qAs_vDvybppnzySTyYTy7X3SF3xX2wFS97dQ09CQsb7MUYk5Bu4U4gCVAYqRRf8bUqQcBS0AdxaOuNUZqhAqKsZ9XahbCFi_gusWNul0FMgCrZo-NvMT1YkP9-lVJUHlVj74HlbKFUYLOQC1Rm6GgNae8nUZc-omEMI2FRV2So-o-wsYfMDHvckZxc2H1gQwbYTpRNkz7dQRsWKP5RjGAyogJ4eZZDC75Hcy7qeSJ-b31Mg2xEd3wyfmU56fDT_f4FD8czRksQsdkfKKuPIuk2hOoqxNIYZzHGMdT9AcJ_CL9Na6Ekv4xcW1YWbYEbwtInOXH3DIP1p6qpxml1meXBm9z3LzedFZ1I7JlzsPyFRlCVFtXihIIV-ACtyr4hFpytO_0O5gT69SE92-xhzeh6ZoTnCvYUp6deyJhy8ykicIme8mA4scEi2JeciUloctNNmlQVgxFZHdCNtA2SNrDMFcIl2J5FbWjjixq36JnY8LwpZiV-ZdIsg1zsUNwgxHJJy8ZSt3GHEDkf3YfC4L1f3Z0S5fowr0AOaIkfoIj2nJI7BW8BZDuhoC7sLFAdT3R4mayRwu9LTtXARgWDms1q5wY_NvrwEugCwaUeFnzbqVlq2eTs_W4kDBC6baAi0POYTwWE11X2Xmoos77h9ICPVuJRPyaazxrw0t6NTv7WL8ZOk0_YJExBOErbKRPRlqYaynP_CQIdem1y4nj7ZRVNkJFr-rrsmi05cxaUOnKSNTDXAAV044A0XSFrfOc9kURcxjg8LIQ4RMAY_JIl-hBvnBzF0ORDd-Nh1na0hq2GIXLX8-T2ED4-YOZ_BCw1UcdawPaeq2PUwZ8xJD4sxkbcM2gc9k2WJF7TI8jaX99Q1oxcb2E829ghR0qveOiJtUA8GShZeD9P4u2vVGDm3Sirlxi9hKtQpjF6z-Deg0Xd-DTz4KAl6164zlaulMcIZKdB8ScbWQowJCSMggESEetnilDJ8uzwMso7nsVYGn0M8TL2BnG2zJ7USd_K_s7Ms_QeWRk-8YO2lrFvGNRJj0sSgww7DjoisHYrsW6B72YXB82AzwfaFY3-Z5JB7PMTB24INPImCTHSBUVm_1ouOAjCdpG44lS405BPyF_HC0mbqFqGRhWuAcnLSl9SlmKXQ54jJrGHgak-RmbY92ygNqc7CquoXeehZ6RsoiytrRcbDyt2fz9oDe0IMMgRPnF4-Oko_hnMValRaUAGMg../download\n",
            "Resolving public.boxcloud.com (public.boxcloud.com)... 185.235.236.200\n",
            "Connecting to public.boxcloud.com (public.boxcloud.com)|185.235.236.200|:443... connected.\n",
            "HTTP request sent, awaiting response... 200 OK\n",
            "Length: 190210 (186K) [application/octet-stream]\n",
            "Saving to: ‘./dict’\n",
            "\n",
            "./dict              100%[===================>] 185.75K  1.20MB/s    in 0.2s    \n",
            "\n",
            "2019-11-12 01:34:29 (1.20 MB/s) - ‘./dict’ saved [190210/190210]\n",
            "\n",
            "--2019-11-12 01:34:31--  https://nyu.box.com/shared/static/aqp0jyjaixjmukm5asasivq2bcfze075.jsonl\n",
            "Resolving nyu.box.com (nyu.box.com)... 185.235.236.197\n",
            "Connecting to nyu.box.com (nyu.box.com)|185.235.236.197|:443... connected.\n",
            "HTTP request sent, awaiting response... 301 Moved Permanently\n",
            "Location: /public/static/aqp0jyjaixjmukm5asasivq2bcfze075.jsonl [following]\n",
            "--2019-11-12 01:34:32--  https://nyu.box.com/public/static/aqp0jyjaixjmukm5asasivq2bcfze075.jsonl\n",
            "Reusing existing connection to nyu.box.com:443.\n",
            "HTTP request sent, awaiting response... 301 Moved Permanently\n",
            "Location: https://nyu.app.box.com/public/static/aqp0jyjaixjmukm5asasivq2bcfze075.jsonl [following]\n",
            "--2019-11-12 01:34:32--  https://nyu.app.box.com/public/static/aqp0jyjaixjmukm5asasivq2bcfze075.jsonl\n",
            "Resolving nyu.app.box.com (nyu.app.box.com)... 185.235.236.199\n",
            "Connecting to nyu.app.box.com (nyu.app.box.com)|185.235.236.199|:443... connected.\n",
            "HTTP request sent, awaiting response... 302 Found\n",
            "Location: https://public.boxcloud.com/d/1/b1!dEl17T0FlIdFegHT7jUWB4FcJRnxsB2ALZiD_cs3z1iqmIlOjc3GLsATQ1GgMY3co1rRoqQwbSvRha3qQ8bB4jFbGHiagAGisgZxmcGxIbiwF60R2SB1a9MElccfyZQ9MmGFyBGJU6OqIs0lo7mTMdXjhHgpSFqhIllhFa9kXgBLUwqOgAN6ecZe6q51PKicKGDkrGnE70evolvsZuqOPgk_ZUmMPIodwIo0_xevE8-mFbr0wAaXjWUqjS60oERyr6J_hP5KBdZicXWkTG8aT_t835SEsNrFEgxMPCn3K6zRB-SwOlxhlzTlQXb6IwfppE6ggXfZ1W3UTqRs49KRqSOVLEJA0esQDlLrMNvr_b-KKbQqwK7FhZBQVc50uDrXsyoBFkNlOdTF7CB5i7yA6a9PQev2DOeo8N2bYMD6p3gLWr7sEsb9CuTJjMZV8rVDRyqGPMVNdZ83lMX5xlfWEjG7OUu6GPHvR53zz125H15e11BGAC2zR5aZYU9bPd6msJNbI9DzcwE5VNCj8aLB_JTrlR5ZM5na8EcOoKyifsYYzKtXHtSgmz07RSZkwfVMYHpC4G1QQ_r62Q06Z4ge0iNxK65vWfzCLUJVjADDjUyV7nbyKVc6sEnp-68qHDed4RNxZ-oGe2R-QaCLpfVx9sfwD9XKwC9OTdcTcdUdfhv4shfbAFKdAzDS3TaQ_I3qPHgivzQs4IBiAap6L871Etsf3ffwe8zX0g9sORG0wcIMDZ6dkA0ViwOVO3U0JlTY_ehKNAH9DMhlyINiX7lb1HQ-K_qFWqE-zEOmlo66J2L1IhZyE7TC23gL9xeZWYNict8xiE_G_aGPfv5eSoPR5ZbFybP2VagcfEqAeexd9EXbOKS0B4-iMCXyS5f86Z_D6QTK4bHC57wYPNlWAjctqnBrYLRkCq5eqmH_XLxzXgAZUNRZdOIkZw_r2A3qGkUO_5LUDM6j04Tv04GK4PkOExhIHJzsV816DwtIqbEXvYeql_y5AuMS5nrkr-m20XO7z3QOMdyCXQRwXzI8nom3N2BJFlUTWrR5jdMy6nfiL28nnpGPc4y7Aem4e2_-cPWtVTtY_LjvLdQHDQZEYdt7j39It8QU_gg1vT7onSA9bUTbQHvG_zHsmpna2rBrgdmk0laMv7k7_l9rewY0_lR13pp6u1wqIBSI1ba2VuXlSGD1SQGG7yP1AkUKJ2GTzLBEOjCDfZq9mNvOQzu5X9K4HFp68gHwuCayVYcss8VBqP-9vgN6PLLIVdMrNoH5gXq2zGNnVqL1GfpJcYnNPEE6pE2CTh6X8TyvXNmAmmV4DsVsCY-yWfoXXSO-Nd7UP-c_rydfiFigZ3LzRxVdlRF5kvfDvlfDqN-VA6hcksXSkR6rG4UEdOIon-sWTw../download [following]\n",
            "--2019-11-12 01:34:32--  https://public.boxcloud.com/d/1/b1!dEl17T0FlIdFegHT7jUWB4FcJRnxsB2ALZiD_cs3z1iqmIlOjc3GLsATQ1GgMY3co1rRoqQwbSvRha3qQ8bB4jFbGHiagAGisgZxmcGxIbiwF60R2SB1a9MElccfyZQ9MmGFyBGJU6OqIs0lo7mTMdXjhHgpSFqhIllhFa9kXgBLUwqOgAN6ecZe6q51PKicKGDkrGnE70evolvsZuqOPgk_ZUmMPIodwIo0_xevE8-mFbr0wAaXjWUqjS60oERyr6J_hP5KBdZicXWkTG8aT_t835SEsNrFEgxMPCn3K6zRB-SwOlxhlzTlQXb6IwfppE6ggXfZ1W3UTqRs49KRqSOVLEJA0esQDlLrMNvr_b-KKbQqwK7FhZBQVc50uDrXsyoBFkNlOdTF7CB5i7yA6a9PQev2DOeo8N2bYMD6p3gLWr7sEsb9CuTJjMZV8rVDRyqGPMVNdZ83lMX5xlfWEjG7OUu6GPHvR53zz125H15e11BGAC2zR5aZYU9bPd6msJNbI9DzcwE5VNCj8aLB_JTrlR5ZM5na8EcOoKyifsYYzKtXHtSgmz07RSZkwfVMYHpC4G1QQ_r62Q06Z4ge0iNxK65vWfzCLUJVjADDjUyV7nbyKVc6sEnp-68qHDed4RNxZ-oGe2R-QaCLpfVx9sfwD9XKwC9OTdcTcdUdfhv4shfbAFKdAzDS3TaQ_I3qPHgivzQs4IBiAap6L871Etsf3ffwe8zX0g9sORG0wcIMDZ6dkA0ViwOVO3U0JlTY_ehKNAH9DMhlyINiX7lb1HQ-K_qFWqE-zEOmlo66J2L1IhZyE7TC23gL9xeZWYNict8xiE_G_aGPfv5eSoPR5ZbFybP2VagcfEqAeexd9EXbOKS0B4-iMCXyS5f86Z_D6QTK4bHC57wYPNlWAjctqnBrYLRkCq5eqmH_XLxzXgAZUNRZdOIkZw_r2A3qGkUO_5LUDM6j04Tv04GK4PkOExhIHJzsV816DwtIqbEXvYeql_y5AuMS5nrkr-m20XO7z3QOMdyCXQRwXzI8nom3N2BJFlUTWrR5jdMy6nfiL28nnpGPc4y7Aem4e2_-cPWtVTtY_LjvLdQHDQZEYdt7j39It8QU_gg1vT7onSA9bUTbQHvG_zHsmpna2rBrgdmk0laMv7k7_l9rewY0_lR13pp6u1wqIBSI1ba2VuXlSGD1SQGG7yP1AkUKJ2GTzLBEOjCDfZq9mNvOQzu5X9K4HFp68gHwuCayVYcss8VBqP-9vgN6PLLIVdMrNoH5gXq2zGNnVqL1GfpJcYnNPEE6pE2CTh6X8TyvXNmAmmV4DsVsCY-yWfoXXSO-Nd7UP-c_rydfiFigZ3LzRxVdlRF5kvfDvlfDqN-VA6hcksXSkR6rG4UEdOIon-sWTw../download\n",
            "Resolving public.boxcloud.com (public.boxcloud.com)... 185.235.236.200\n",
            "Connecting to public.boxcloud.com (public.boxcloud.com)|185.235.236.200|:443... connected.\n",
            "HTTP request sent, awaiting response... 200 OK\n",
            "Length: 93166014 (89M) [application/octet-stream]\n",
            "Saving to: ‘./train.jsonl’\n",
            "\n",
            "./train.jsonl       100%[===================>]  88.85M  11.8MB/s    in 7.7s    \n",
            "\n",
            "2019-11-12 01:34:40 (11.6 MB/s) - ‘./train.jsonl’ saved [93166014/93166014]\n",
            "\n",
            "--2019-11-12 01:34:41--  https://nyu.box.com/shared/static/eg4ivddtqib2hkf1k8rkxnmzmo0cq27p.jsonl\n",
            "Resolving nyu.box.com (nyu.box.com)... 185.235.236.197\n",
            "Connecting to nyu.box.com (nyu.box.com)|185.235.236.197|:443... connected.\n",
            "HTTP request sent, awaiting response... 301 Moved Permanently\n",
            "Location: /public/static/eg4ivddtqib2hkf1k8rkxnmzmo0cq27p.jsonl [following]\n",
            "--2019-11-12 01:34:42--  https://nyu.box.com/public/static/eg4ivddtqib2hkf1k8rkxnmzmo0cq27p.jsonl\n",
            "Reusing existing connection to nyu.box.com:443.\n",
            "HTTP request sent, awaiting response... 301 Moved Permanently\n",
            "Location: https://nyu.app.box.com/public/static/eg4ivddtqib2hkf1k8rkxnmzmo0cq27p.jsonl [following]\n",
            "--2019-11-12 01:34:42--  https://nyu.app.box.com/public/static/eg4ivddtqib2hkf1k8rkxnmzmo0cq27p.jsonl\n",
            "Resolving nyu.app.box.com (nyu.app.box.com)... 185.235.236.199\n",
            "Connecting to nyu.app.box.com (nyu.app.box.com)|185.235.236.199|:443... connected.\n",
            "HTTP request sent, awaiting response... 302 Found\n",
            "Location: https://public.boxcloud.com/d/1/b1!tQIAmPnVWVh8KCL4BCFThRTvqutAP4906rPOQRGAnKTYegUMbiDkRovmXlfNuwQFVXWdTblO1D99XjlA7JcUI-NBQP3CMlSd-U50XPNbee9rVelcGqysyArXE4sMT9ZOtWbQkNz4UKEmtRfQcY-u4maWSahQKx0QC_6e7XWxa5tyg1Nz9Fuo00a0uKhR9KnJXVkVUMj1czSh5BSH_DOYZ_xVPDfuzaPKwIjd6BZLZhyzB-TdgApXfIZvSx8I0U9QMBCT-jdzToAvuy2Lg_Ol1nx2Ra0dAlu9IL1LMtuirwJHtoanDoS4_8OQtGB8w1ZTaeqJy0QN6a1LYjrf1ibBrgszk6drMCayRrJoozSt_fHLaRj2gVdB4Gme1V-mI7KEICWbHxHNtz1TUmkoY028EJIzn3B5YMhQbh4O_4PyRpzcDv2fqn2QxkVJ25gk-uc7cTF63E17Ag9zunLXOc2awInTfdhCcjUefhDEUsLwgtEuUqe-wC4dUWuRCnSnE_Gc4dKZ_Ecg3c5a40LFg71lE8A6iKtUva1QvUB1Ae81gV7YERs-0KhSjkKFn1ay_COECSlz-sp_X8JiisTViALl64eCE1NCQGaaAtyaQAjkyGbkydDyk3p-l1hCjYqyxn7thne1OrqvWBKQyS3nG8D__ynPEwsOEyLNZWV1ICH3RGQTWUL5GqDW-dFHzZB9luZ5gQN2u_X9adX6V7fejbA9vHGuerznG4ZlkOzRxJSGLa0oayXkL-g7bBD5gbhdlySlb_6BoR3u0VkJKYvvy0jjoiY_aTP1JlzlZi-bkT7stnuoZquqaTzl-HmNZlgwR6_j8_AiEg24jI5aZcErvhUWGtTPuZBKtTPkWBrRSSg0474zJRpwHe1W-9z1aiZUI4WiHtiyeVA3krxLR52OyD_M5o-N5cwRXh1BIfs5CputzLr_WKXBwrfYoNO3V9mVd4_GLPH81qcpy1GXPDiuLtJWTfyQIC42IzgP1nXm9vgrmgF3WIMeWbJvO7apaFt2EQO7-hfS-aHYwrBuegT0z9T3JCAF6q4WU8IlIn1EpAzoipKLa_S77M_DPY9EaAn7P0sINfOgi3vhp0J0W4uh-XEdVhxy4uIkvKS5WDruqdet4DOBAOhnAtr1hfa95G2A_JiSaaWveJ3VX3CbaTfhJ78owiSZawWaGAfeC2O4MU_VjyrsAycUmCgVvx06Eb2Rcu8-4AE2X-mTlW299zjAAqroMOe0yRNP2a7Hw-fpuAHVDdHPkf7dCIxkiZM94oKEEGkX1hwfsext0O1D-QBd-JBbvAmTQteEkaFhMdTGJQqTa6HFNado0-uU7TUUzJhubaPt7D8EcoL9WCvueY0cXs_HkLl1gOox4lWt_Yb0ddA7cYUyvKMhzgr1B4C8/download [following]\n",
            "--2019-11-12 01:34:42--  https://public.boxcloud.com/d/1/b1!tQIAmPnVWVh8KCL4BCFThRTvqutAP4906rPOQRGAnKTYegUMbiDkRovmXlfNuwQFVXWdTblO1D99XjlA7JcUI-NBQP3CMlSd-U50XPNbee9rVelcGqysyArXE4sMT9ZOtWbQkNz4UKEmtRfQcY-u4maWSahQKx0QC_6e7XWxa5tyg1Nz9Fuo00a0uKhR9KnJXVkVUMj1czSh5BSH_DOYZ_xVPDfuzaPKwIjd6BZLZhyzB-TdgApXfIZvSx8I0U9QMBCT-jdzToAvuy2Lg_Ol1nx2Ra0dAlu9IL1LMtuirwJHtoanDoS4_8OQtGB8w1ZTaeqJy0QN6a1LYjrf1ibBrgszk6drMCayRrJoozSt_fHLaRj2gVdB4Gme1V-mI7KEICWbHxHNtz1TUmkoY028EJIzn3B5YMhQbh4O_4PyRpzcDv2fqn2QxkVJ25gk-uc7cTF63E17Ag9zunLXOc2awInTfdhCcjUefhDEUsLwgtEuUqe-wC4dUWuRCnSnE_Gc4dKZ_Ecg3c5a40LFg71lE8A6iKtUva1QvUB1Ae81gV7YERs-0KhSjkKFn1ay_COECSlz-sp_X8JiisTViALl64eCE1NCQGaaAtyaQAjkyGbkydDyk3p-l1hCjYqyxn7thne1OrqvWBKQyS3nG8D__ynPEwsOEyLNZWV1ICH3RGQTWUL5GqDW-dFHzZB9luZ5gQN2u_X9adX6V7fejbA9vHGuerznG4ZlkOzRxJSGLa0oayXkL-g7bBD5gbhdlySlb_6BoR3u0VkJKYvvy0jjoiY_aTP1JlzlZi-bkT7stnuoZquqaTzl-HmNZlgwR6_j8_AiEg24jI5aZcErvhUWGtTPuZBKtTPkWBrRSSg0474zJRpwHe1W-9z1aiZUI4WiHtiyeVA3krxLR52OyD_M5o-N5cwRXh1BIfs5CputzLr_WKXBwrfYoNO3V9mVd4_GLPH81qcpy1GXPDiuLtJWTfyQIC42IzgP1nXm9vgrmgF3WIMeWbJvO7apaFt2EQO7-hfS-aHYwrBuegT0z9T3JCAF6q4WU8IlIn1EpAzoipKLa_S77M_DPY9EaAn7P0sINfOgi3vhp0J0W4uh-XEdVhxy4uIkvKS5WDruqdet4DOBAOhnAtr1hfa95G2A_JiSaaWveJ3VX3CbaTfhJ78owiSZawWaGAfeC2O4MU_VjyrsAycUmCgVvx06Eb2Rcu8-4AE2X-mTlW299zjAAqroMOe0yRNP2a7Hw-fpuAHVDdHPkf7dCIxkiZM94oKEEGkX1hwfsext0O1D-QBd-JBbvAmTQteEkaFhMdTGJQqTa6HFNado0-uU7TUUzJhubaPt7D8EcoL9WCvueY0cXs_HkLl1gOox4lWt_Yb0ddA7cYUyvKMhzgr1B4C8/download\n",
            "Resolving public.boxcloud.com (public.boxcloud.com)... 185.235.236.200\n",
            "Connecting to public.boxcloud.com (public.boxcloud.com)|185.235.236.200|:443... connected.\n",
            "HTTP request sent, awaiting response... 200 OK\n",
            "Length: 6044784 (5.8M) [application/octet-stream]\n",
            "Saving to: ‘./valid.jsonl’\n",
            "\n",
            "./valid.jsonl       100%[===================>]   5.76M  6.47MB/s    in 0.9s    \n",
            "\n",
            "2019-11-12 01:34:44 (6.47 MB/s) - ‘./valid.jsonl’ saved [6044784/6044784]\n",
            "\n",
            "--2019-11-12 01:34:45--  https://nyu.box.com/shared/static/24zsynuks8nzg7530tgakzh8o62id9xa.pt\n",
            "Resolving nyu.box.com (nyu.box.com)... 185.235.236.197\n",
            "Connecting to nyu.box.com (nyu.box.com)|185.235.236.197|:443... connected.\n",
            "HTTP request sent, awaiting response... 301 Moved Permanently\n",
            "Location: /public/static/24zsynuks8nzg7530tgakzh8o62id9xa.pt [following]\n",
            "--2019-11-12 01:34:45--  https://nyu.box.com/public/static/24zsynuks8nzg7530tgakzh8o62id9xa.pt\n",
            "Reusing existing connection to nyu.box.com:443.\n",
            "HTTP request sent, awaiting response... 301 Moved Permanently\n",
            "Location: https://nyu.app.box.com/public/static/24zsynuks8nzg7530tgakzh8o62id9xa.pt [following]\n",
            "--2019-11-12 01:34:45--  https://nyu.app.box.com/public/static/24zsynuks8nzg7530tgakzh8o62id9xa.pt\n",
            "Resolving nyu.app.box.com (nyu.app.box.com)... 185.235.236.199\n",
            "Connecting to nyu.app.box.com (nyu.app.box.com)|185.235.236.199|:443... connected.\n",
            "HTTP request sent, awaiting response... 302 Found\n",
            "Location: https://public.boxcloud.com/d/1/b1!eDaTIKuSl-tdqvrBQ-_IOlYT4-fGpDoSbn42TEB6UYpBmhjtaZsCDIThfjYblhq3LZ0FejGTzempXhwkiLBkoBOQDq7JqEDfmC0jHAzWNCCos6ipYFeKa6pZAqU-Dq-UiGc4WVa6LPjEh88aD5H832xCLXSkYqoYXIVDpqCj8KHZFoB7PXeKVa6iD4Tpiq7haiI2tpghQzVwRkdxWAVt7c5V6b-ubAw6CTS3mv2bxZpzQKt0SGwkWn14TWk1T6MJOnSDj9FHm_p2oU5H5fsGVD8lp2hKDH8x3PepSdMSqpEODm-fDhvXdeWW6AdytL4dSBiMXfm2dS4s44UK0RLiHHynFELbDJc3He4plF8RnFiMWc54AU3qyLExmF69K3sabHZgdPnvHShAWEpnifQHtaQpi9HvlnE_qD1peMyTPImaox7HqyGu0u8bj2t-ctVY3ffR7mFDzfb4bWJ1N3BAXqZjZf-C48tKLXjwV-7egaWl55dvjgaEjFBoRdBxvmkoHcdywXIrSvC7QdlW-1GzJX8EfKFoApCTiBZOuYHvn97rKZesTE248qJieV7yW2AopyLdkPJjy7Vywh5zA5bg0qVwGohM-D0kt5ZOC7vnsN9sXYj74YwvYT_Xn06SIiZsW2edALierow1IOyYrk3vzzDJRYXFzZiAPnqT2RjOVRAhngesCC_StE_fJZZhRQtJU8x1TAwFG3pDRUgieqmd2aOuR-OFEs-f_40HNnqKnbnGQ5r145Ibjck7qbblr7fGdKiqpFsdER49sIKsGJmNjjybkBRI0QrwluNStvk3MZK8QzJFlrVFVUampEGPPgk-9IRTRkYCDTIl7v7od5L-8DAbdrRgmHUrXTjPLdbx8Oeiz9uUK2rpOhCqmqYjaVO2pt21YQEl6fRIIgZIIYhQof1-WusAywk5Cqe159qFbNn_31jyIeDS0CyV7lGGQ-KXyjBnHELYsVhUekBPbKFGpVZU9zyoQ3vXDGATTrWmvupV07kB9lsbd52W0hgZdfMJHtx5A8nwKKggN4iBHaR_bAq5--qDp6il1E9JXQdEwsLFzfhjwqZAbhU_RrK7zIeUj-_uvvjS2zzlTwkwduxJHSGhf-uWKrdwV-JfOjh6J0IGzKmJxNS87Bit2zY0xOCScwmzCXppvElVY7IMiUtcnaux6CgHsr25KWlovxChjYhMRpKSLMbvYPavjRbYzbdkKbtUD4TJAtWO5mtawl9II1KNsYW4CK56kA4LE7zXNtHxuoy0Y3skG-_vP2ysPOOgX7OBqwGcdG7zxZdW1OZxW9tCZUiosaEoMdVAXmUXlWkd7DC03m53jxWNOM_U2rIXNiIEXrhs4qYC-lrbF_BQbj2Lu8IK6SCud5WOLToOt3PHsS-DYLABEPR8dk9d9qllHuyTwRo./download [following]\n",
            "--2019-11-12 01:34:46--  https://public.boxcloud.com/d/1/b1!eDaTIKuSl-tdqvrBQ-_IOlYT4-fGpDoSbn42TEB6UYpBmhjtaZsCDIThfjYblhq3LZ0FejGTzempXhwkiLBkoBOQDq7JqEDfmC0jHAzWNCCos6ipYFeKa6pZAqU-Dq-UiGc4WVa6LPjEh88aD5H832xCLXSkYqoYXIVDpqCj8KHZFoB7PXeKVa6iD4Tpiq7haiI2tpghQzVwRkdxWAVt7c5V6b-ubAw6CTS3mv2bxZpzQKt0SGwkWn14TWk1T6MJOnSDj9FHm_p2oU5H5fsGVD8lp2hKDH8x3PepSdMSqpEODm-fDhvXdeWW6AdytL4dSBiMXfm2dS4s44UK0RLiHHynFELbDJc3He4plF8RnFiMWc54AU3qyLExmF69K3sabHZgdPnvHShAWEpnifQHtaQpi9HvlnE_qD1peMyTPImaox7HqyGu0u8bj2t-ctVY3ffR7mFDzfb4bWJ1N3BAXqZjZf-C48tKLXjwV-7egaWl55dvjgaEjFBoRdBxvmkoHcdywXIrSvC7QdlW-1GzJX8EfKFoApCTiBZOuYHvn97rKZesTE248qJieV7yW2AopyLdkPJjy7Vywh5zA5bg0qVwGohM-D0kt5ZOC7vnsN9sXYj74YwvYT_Xn06SIiZsW2edALierow1IOyYrk3vzzDJRYXFzZiAPnqT2RjOVRAhngesCC_StE_fJZZhRQtJU8x1TAwFG3pDRUgieqmd2aOuR-OFEs-f_40HNnqKnbnGQ5r145Ibjck7qbblr7fGdKiqpFsdER49sIKsGJmNjjybkBRI0QrwluNStvk3MZK8QzJFlrVFVUampEGPPgk-9IRTRkYCDTIl7v7od5L-8DAbdrRgmHUrXTjPLdbx8Oeiz9uUK2rpOhCqmqYjaVO2pt21YQEl6fRIIgZIIYhQof1-WusAywk5Cqe159qFbNn_31jyIeDS0CyV7lGGQ-KXyjBnHELYsVhUekBPbKFGpVZU9zyoQ3vXDGATTrWmvupV07kB9lsbd52W0hgZdfMJHtx5A8nwKKggN4iBHaR_bAq5--qDp6il1E9JXQdEwsLFzfhjwqZAbhU_RrK7zIeUj-_uvvjS2zzlTwkwduxJHSGhf-uWKrdwV-JfOjh6J0IGzKmJxNS87Bit2zY0xOCScwmzCXppvElVY7IMiUtcnaux6CgHsr25KWlovxChjYhMRpKSLMbvYPavjRbYzbdkKbtUD4TJAtWO5mtawl9II1KNsYW4CK56kA4LE7zXNtHxuoy0Y3skG-_vP2ysPOOgX7OBqwGcdG7zxZdW1OZxW9tCZUiosaEoMdVAXmUXlWkd7DC03m53jxWNOM_U2rIXNiIEXrhs4qYC-lrbF_BQbj2Lu8IK6SCud5WOLToOt3PHsS-DYLABEPR8dk9d9qllHuyTwRo./download\n",
            "Resolving public.boxcloud.com (public.boxcloud.com)... 185.235.236.200\n",
            "Connecting to public.boxcloud.com (public.boxcloud.com)|185.235.236.200|:443... connected.\n",
            "HTTP request sent, awaiting response... 200 OK\n",
            "Length: 69267718 (66M) [application/octet-stream]\n",
            "Saving to: ‘./chat_model_best_22.pt’\n",
            "\n",
            "./chat_model_best_2 100%[===================>]  66.06M  12.4MB/s    in 5.8s    \n",
            "\n",
            "2019-11-12 01:34:52 (11.4 MB/s) - ‘./chat_model_best_22.pt’ saved [69267718/69267718]\n",
            "\n"
          ],
          "name": "stdout"
        },
        {
          "output_type": "stream",
          "text": [
            "100%|██████████| 131438/131438 [00:09<00:00, 13205.71it/s]\n",
            "100%|██████████| 7801/7801 [00:00<00:00, 12734.93it/s]\n"
          ],
          "name": "stderr"
        }
      ]
    },
    {
      "cell_type": "code",
      "metadata": {
        "id": "LeASqRTH0H-S",
        "colab_type": "code",
        "outputId": "6d424982-f205-464d-9612-c5acc7c85a91",
        "colab": {
          "base_uri": "https://localhost:8080/",
          "height": 136
        }
      },
      "source": [
        "print(train_dataset[0])\n",
        "train_loader = DataLoader(train_dataset, shuffle=True, collate_fn=batchify, batch_size=256)\n",
        "valid_loader = DataLoader(valid_dataset, shuffle=False, collate_fn=batchify, batch_size=256)"
      ],
      "execution_count": 0,
      "outputs": [
        {
          "output_type": "stream",
          "text": [
            "(tensor([   7,   10,   12,    5,   21,   14, 3583, 1607,    4,   11,    7,   10,\n",
            "          12,    5,   21,   14,   56,  655,    4,   11,    7,   10,   12,    5,\n",
            "          21,   14, 1806,    8, 2105,    4,   11,    7,   10,   12,   15,   44,\n",
            "        1255,   18,  862,    4,   11,   58,   13,   34,   25,    6,   65,    9,\n",
            "           5,   16,   26,  245,  430,   14,   17,   97, 6377, 2587,   14,  286,\n",
            "          24, 1145,    4]), tensor([  6, 252,  46,  83, 351,   4, 655,  18,  79,  30,  15,  44, 171,   4,\n",
            "          2]))\n"
          ],
          "name": "stdout"
        }
      ]
    },
    {
      "cell_type": "code",
      "metadata": {
        "id": "wzZsIO5J0IA1",
        "colab_type": "code",
        "colab": {}
      },
      "source": [
        "import torch.nn as nn\n",
        "from torch.nn.utils.rnn import pack_padded_sequence, pad_packed_sequence\n",
        "\n",
        "class EncoderRNN(nn.Module):\n",
        "    \"\"\"Encodes the input context.\"\"\"\n",
        "\n",
        "    def __init__(self, vocab_size, embed_size, hidden_size, num_layers, pad_idx=0, dropout=0, shared_lt=None):\n",
        "        super().__init__()\n",
        "        self.vocab_size = vocab_size\n",
        "        self.embed_size = embed_size\n",
        "        self.hidden_size = hidden_size\n",
        "        self.num_layers = num_layers\n",
        "        self.dropout = nn.Dropout(p=dropout)\n",
        "        self.pad_idx = pad_idx\n",
        "        \n",
        "        if shared_lt is None:\n",
        "            self.embedding = nn.Embedding(self.vocab_size, self.embed_size, pad_idx)\n",
        "        else:\n",
        "            self.embedding = shared_lt\n",
        "            \n",
        "        self.gru = nn.GRU(\n",
        "            self.embed_size, self.hidden_size, num_layers=self.num_layers, batch_first=True, dropout=dropout if num_layers > 1 else 0,\n",
        "        )\n",
        "        \n",
        "        \n",
        "    def forward(self, text_vec, text_lens, hidden=None, use_packed=True):\n",
        "        embedded = self.embedding(text_vec)\n",
        "        attention_mask = text_vec.ne(self.pad_idx)\n",
        "\n",
        "        embedded = self.dropout(embedded)\n",
        "        if use_packed is True:\n",
        "            embedded = pack_padded_sequence(embedded, text_lens, batch_first=True)\n",
        "        output, hidden = self.gru(embedded, hidden)\n",
        "        if use_packed is True:\n",
        "            output, output_lens = pad_packed_sequence(output, batch_first=True)\n",
        "        \n",
        "        return output, hidden, attention_mask\n",
        "\n",
        "    \n",
        "class DecoderRNN(nn.Module):\n",
        "    \"\"\"Generates a sequence of tokens in response to context.\"\"\"\n",
        "\n",
        "    def __init__(self, vocab_size, embed_size, hidden_size, num_layers, dropout=0):\n",
        "        super().__init__()\n",
        "        self.vocab_size = vocab_size\n",
        "        self.embed_size = embed_size\n",
        "        self.hidden_size = hidden_size\n",
        "        self.num_layers = num_layers\n",
        "        self.dropout = nn.Dropout(p=dropout)\n",
        "        \n",
        "        self.embedding = nn.Embedding(self.vocab_size, self.embed_size, 0)\n",
        "        \n",
        "        self.gru = nn.GRU(\n",
        "            self.embed_size, self.hidden_size, num_layers=self.num_layers, batch_first=True, dropout=dropout if num_layers > 1 else 0,\n",
        "        )\n",
        "        \n",
        "        self.attention = AttentionLayer(self.hidden_size, self.embed_size)\n",
        "\n",
        "        self.out = nn.Linear(self.hidden_size, self.vocab_size)\n",
        "        self.longest_label = 100\n",
        "\n",
        "    def forward(self, text_vec, decoder_hidden, encoder_states):\n",
        "        emb = self.embedding(text_vec)\n",
        "        emb = self.dropout(emb)\n",
        "        seqlen = text_vec.size(1)\n",
        "        encoder_output, encoder_hidden, attention_mask = encoder_states\n",
        "        \n",
        "        decoder_hidden = decoder_hidden\n",
        "        output = []\n",
        "        attn_w_log = []\n",
        "\n",
        "        for i in range(seqlen):\n",
        "            decoder_output, decoder_hidden = self.gru(emb[:,i,:].unsqueeze(1), decoder_hidden)\n",
        "            \n",
        "            # compute attention at each time step\n",
        "            decoder_output_attended, attn_weights = self.attention(decoder_output, decoder_hidden, encoder_output, attention_mask)\n",
        "            output.append(decoder_output_attended)\n",
        "            attn_w_log.append(attn_weights)\n",
        "            \n",
        "        output = torch.cat(output, dim=1).to(text_vec.device)\n",
        "        scores = self.out(output)\n",
        "        \n",
        "        return scores, decoder_hidden, attn_w_log\n",
        "    \n",
        "    def decode_forced(self, ys, encoder_states, xs_lens):\n",
        "        encoder_output, encoder_hidden, attention_mask = encoder_states\n",
        "        \n",
        "        batch_size = ys.size(0)\n",
        "        target_length = ys.size(1)\n",
        "        longest_label = max(target_length, self.longest_label)\n",
        "        \n",
        "        starts = torch.Tensor([1]).long().to(self.embedding.weight.device).expand(batch_size, 1).long()  # expand to batch size\n",
        "        \n",
        "        # Teacher forcing: Feed the target as the next input\n",
        "        y_in = ys.narrow(1, 0, ys.size(1) - 1)\n",
        "        decoder_input = torch.cat([starts, y_in], 1)\n",
        "        decoder_output, decoder_hidden, attn_w_log = self.forward(decoder_input, encoder_hidden, encoder_states)\n",
        "        _, preds = decoder_output.max(dim=2)\n",
        "        \n",
        "        return decoder_output, preds, attn_w_log\n",
        "    \n",
        "    \n",
        "class AttentionLayer(nn.Module):\n",
        "\n",
        "    def __init__(self, hidden_size, embedding_size):\n",
        "        super().__init__()\n",
        "        input_dim = hidden_size\n",
        "\n",
        "        self.linear_out = nn.Linear(hidden_size+input_dim, input_dim, bias=False)\n",
        "        self.softmax = nn.Softmax(dim=-1)\n",
        "        self.tanh = nn.Tanh()\n",
        "\n",
        "    def forward(self, decoder_output, decoder_hidden, encoder_output, attention_mask):\n",
        "\n",
        "        batch_size, seq_length, hidden_size = encoder_output.size()\n",
        "\n",
        "        encoder_output_t = encoder_output.transpose(1,2)\n",
        "        \n",
        "        attention_scores = torch.bmm(decoder_output, encoder_output_t).squeeze(1)\n",
        "\n",
        "        attention_scores.masked_fill_((~attention_mask), -10e5)\n",
        "        attention_weights = self.softmax(attention_scores)\n",
        "\n",
        "        mix = torch.bmm(attention_weights.unsqueeze(1), encoder_output)\n",
        "\n",
        "        combined = torch.cat((decoder_output.squeeze(1), mix.squeeze(1)), dim=1)\n",
        "\n",
        "        output = self.linear_out(combined).unsqueeze(1)\n",
        "        output = self.tanh(output)\n",
        "\n",
        "        return output, attention_weights\n",
        "    \n",
        "    \n",
        "class seq2seq(nn.Module):\n",
        "    \"\"\"\n",
        "    Generic seq2seq model with attention mechanism.\n",
        "    \"\"\"\n",
        "    def __init__(self, opts):\n",
        "\n",
        "        super().__init__()\n",
        "        self.opts = opts\n",
        "        \n",
        "        self.decoder = DecoderRNN(\n",
        "                                    vocab_size=self.opts['vocab_size'],\n",
        "                                    embed_size=self.opts['embedding_size'],\n",
        "                                    hidden_size=self.opts['hidden_size'],\n",
        "                                    num_layers=self.opts['num_layers_dec'],\n",
        "                                    dropout=self.opts['dropout'],\n",
        "                                )\n",
        "        \n",
        "        self.encoder = EncoderRNN(\n",
        "                                    vocab_size=self.opts['vocab_size'],\n",
        "                                    embed_size=self.opts['embedding_size'],\n",
        "                                    hidden_size=self.opts['hidden_size'],\n",
        "                                    num_layers=self.opts['num_layers_enc'],\n",
        "                                    dropout=self.opts['dropout'],\n",
        "                                    shared_lt=self.decoder.embedding\n",
        "        )\n",
        "        \n",
        "    def train(self):\n",
        "        self.encoder.train()\n",
        "        self.decoder.train()\n",
        "        \n",
        "    def eval(self):\n",
        "        self.encoder.eval()\n",
        "        self.decoder.eval()"
      ],
      "execution_count": 0,
      "outputs": []
    },
    {
      "cell_type": "code",
      "metadata": {
        "id": "j8Rcrywj0CSz",
        "colab_type": "code",
        "outputId": "2e5cf1a9-2eaf-463d-de61-06f4e2f6b3c6",
        "colab": {
          "base_uri": "https://localhost:8080/",
          "height": 323
        }
      },
      "source": [
        "current_device = 'cuda'\n",
        "model_pt = torch.load('./chat_model_best_22.pt')\n",
        "opts = model_pt['opts']    \n",
        "model = seq2seq(opts)\n",
        "model.load_state_dict(model_pt['state_dict'])\n",
        "model.to(current_device)"
      ],
      "execution_count": 0,
      "outputs": [
        {
          "output_type": "execute_result",
          "data": {
            "text/plain": [
              "seq2seq(\n",
              "  (decoder): DecoderRNN(\n",
              "    (dropout): Dropout(p=0.3, inplace=False)\n",
              "    (embedding): Embedding(18760, 256, padding_idx=0)\n",
              "    (gru): GRU(256, 512, batch_first=True)\n",
              "    (attention): AttentionLayer(\n",
              "      (linear_out): Linear(in_features=1024, out_features=512, bias=False)\n",
              "      (softmax): Softmax(dim=-1)\n",
              "      (tanh): Tanh()\n",
              "    )\n",
              "    (out): Linear(in_features=512, out_features=18760, bias=True)\n",
              "  )\n",
              "  (encoder): EncoderRNN(\n",
              "    (dropout): Dropout(p=0.3, inplace=False)\n",
              "    (embedding): Embedding(18760, 256, padding_idx=0)\n",
              "    (gru): GRU(256, 512, batch_first=True)\n",
              "  )\n",
              ")"
            ]
          },
          "metadata": {
            "tags": []
          },
          "execution_count": 10
        }
      ]
    },
    {
      "cell_type": "code",
      "metadata": {
        "id": "5qd4vWr90oyj",
        "colab_type": "code",
        "outputId": "e5fa657b-47dd-4946-81de-5008cc9a9a34",
        "colab": {
          "base_uri": "https://localhost:8080/",
          "height": 34
        }
      },
      "source": [
        "len(chat_dict)"
      ],
      "execution_count": 0,
      "outputs": [
        {
          "output_type": "execute_result",
          "data": {
            "text/plain": [
              "18760"
            ]
          },
          "metadata": {
            "tags": []
          },
          "execution_count": 11
        }
      ]
    },
    {
      "cell_type": "code",
      "metadata": {
        "id": "C2-k4PYZ0UBa",
        "colab_type": "code",
        "colab": {}
      },
      "source": [
        "import torch.nn.functional as F\n",
        "def nucleus_sampling(logits,p=0.0,filter_value=-float('Inf')):\n",
        "  # https://medium.com/huggingface/how-to-build-a-state-of-the-art-conversational-ai-with-transfer-learning-2d818ac26313\n",
        "    sorted_logits, sorted_indices = torch.sort(logits, descending=True)\n",
        "    cumulative_probs = torch.cumsum(F.softmax(sorted_logits, dim=-1), dim=-1)\n",
        "\n",
        "    # Remove tokens with cumulative probability above the threshold\n",
        "    sorted_indices_to_remove = cumulative_probs > p\n",
        "    # Shift the indices to the right to keep also the first token above the threshold\n",
        "    sorted_indices_to_remove[1:] = sorted_indices_to_remove[:-1].clone()\n",
        "    sorted_indices_to_remove[0] = 0\n",
        "\n",
        "    indices_to_remove = sorted_indices[sorted_indices_to_remove]\n",
        "    logits[indices_to_remove] = filter_value\n",
        "    return logits\n"
      ],
      "execution_count": 0,
      "outputs": []
    },
    {
      "cell_type": "code",
      "metadata": {
        "id": "AtRBU4R60UD-",
        "colab_type": "code",
        "outputId": "bf747c8d-2efd-40c5-8e47-b63475fc8330",
        "colab": {
          "base_uri": "https://localhost:8080/",
          "height": 34
        }
      },
      "source": [
        "for i, batch in enumerate(valid_loader):\n",
        "    model.eval()\n",
        "    text_vecs = batch['text_vecs'].to('cuda')\n",
        "    target_vecs = batch['target_vecs'].to('cuda')\n",
        "    text_lens = batch['text_lens']\n",
        "    print(text_vecs.shape)\n",
        "    break"
      ],
      "execution_count": 0,
      "outputs": [
        {
          "output_type": "stream",
          "text": [
            "torch.Size([256, 332])\n"
          ],
          "name": "stdout"
        }
      ]
    },
    {
      "cell_type": "code",
      "metadata": {
        "id": "HL0pD9TFKsvk",
        "colab_type": "code",
        "colab": {}
      },
      "source": [
        "import numpy as np\n",
        "def greedy_search(model, batch, batch_size,p):\n",
        "    model.eval()\n",
        "        \n",
        "    text_vecs = batch['text_vecs'].to(current_device)\n",
        "\n",
        "    encoded = model.encoder(text_vecs, batch['text_lens'], use_packed=batch['use_packed'])\n",
        "    \n",
        "    encoder_output, encoder_hidden, attention_mask = encoded\n",
        "        \n",
        "    # 1 is __start__\n",
        "    starts = torch.Tensor([1]).long().to(model.decoder.embedding.weight.device).expand(batch_size, 1).long()  # expand to batch size\n",
        "    decoder_hidden = encoder_hidden\n",
        "\n",
        "    # greedy decoding here        \n",
        "    preds = [starts.view(-1)]\n",
        "    scores = []\n",
        "    log_prob = 0.0\n",
        "    # track if each sample in the mini batch is finished\n",
        "    # if all finished, stop predicting\n",
        "    finish_mask = torch.Tensor([0]*batch_size).byte().to(model.decoder.embedding.weight.device)\n",
        "    xs = starts\n",
        "    _attn_w_log = []\n",
        "    log_history = []\n",
        "    unique_tokens = []\n",
        "    for i in range(100):\n",
        "      for ts in range(100):\n",
        "          decoder_output, decoder_hidden, attn_w_log = model.decoder(xs.view(1,-1), decoder_hidden, encoded)  # decoder_output: [batch, time, vocab]\n",
        "          temp = F.softmax(decoder_output.view(-1),dim=-1)\n",
        "          logits = nucleus_sampling(decoder_output.view(-1),p=p)\n",
        "          prob_dist = F.softmax(logits,dim=-1)\n",
        "          _preds = torch.multinomial(prob_dist,1)\n",
        "          if _preds.item() not in unique_tokens:\n",
        "            unique_tokens.append(_preds.item())\n",
        "          _scores = temp[_preds.item()]\n",
        "          log_prob += np.log(_scores.item())\n",
        "          preds.append(_preds)\n",
        "          _attn_w_log.append(attn_w_log)\n",
        "          scores.append(_scores.view(-1)*(finish_mask == 0).float())\n",
        "\n",
        "          finish_mask += (_preds == 2).byte().view(-1)\n",
        "          if not (torch.any(~finish_mask.bool())):\n",
        "              log_history.append(log_prob)\n",
        "              break\n",
        "          \n",
        "          xs = _preds\n",
        "    preds = torch.cat(preds, dim=-1)\n",
        "    preds = preds[1:-1]    \n",
        "    return scores, preds, log_prob, np.mean(log_history),unique_tokens"
      ],
      "execution_count": 0,
      "outputs": []
    },
    {
      "cell_type": "code",
      "metadata": {
        "id": "U53tL2ohKstJ",
        "colab_type": "code",
        "colab": {}
      },
      "source": [
        "ps = [0.1,0.5,0.9]\n",
        "log_probs = []\n",
        "num_tokens = []\n",
        "\n",
        "for p in ps:\n",
        "  inputs = RETOK.findall(chat_dict.v2t(valid_dataset[0][0].tolist()))\n",
        "\n",
        "  test_batch = {\n",
        "    'text_vecs': torch.tensor([chat_dict.t2v(inputs)], dtype=torch.long, device=model.decoder.embedding.weight.device),\n",
        "    'text_lens': torch.tensor([len(inputs)], dtype=torch.long),\n",
        "    'use_packed': True,\n",
        "}\n",
        "\n",
        "  scores, output, log_prob, avg_log, unique_tokens = greedy_search(model, test_batch, 1,p)\n",
        "  log_probs.append(avg_log)\n",
        "  num_tokens.append(len(unique_tokens))"
      ],
      "execution_count": 0,
      "outputs": []
    },
    {
      "cell_type": "markdown",
      "metadata": {
        "id": "HeYFpHwasU9c",
        "colab_type": "text"
      },
      "source": [
        "## You present here:"
      ]
    },
    {
      "cell_type": "code",
      "metadata": {
        "id": "BoWX2fivsU9d",
        "colab_type": "code",
        "outputId": "e960c7a1-4108-4672-c932-333ec331c354",
        "colab": {
          "base_uri": "https://localhost:8080/",
          "height": 298
        }
      },
      "source": [
        "# check pdf to see what you expected to present\n",
        "import matplotlib.pyplot as plt\n",
        "plt.plot(ps,log_probs,\"-o\")\n",
        "plt.title(\"Avg log probs\")"
      ],
      "execution_count": 0,
      "outputs": [
        {
          "output_type": "execute_result",
          "data": {
            "text/plain": [
              "Text(0.5, 1.0, 'Avg log probs')"
            ]
          },
          "metadata": {
            "tags": []
          },
          "execution_count": 68
        },
        {
          "output_type": "display_data",
          "data": {
            "image/png": "[encoded data removed]",
            "text/plain": [
              "<Figure size 432x288 with 1 Axes>"
            ]
          },
          "metadata": {
            "tags": []
          }
        }
      ]
    },
    {
      "cell_type": "code",
      "metadata": {
        "id": "AMivdA0fsU9f",
        "colab_type": "code",
        "outputId": "d75d9040-129c-4fdb-8f62-425323f3e503",
        "colab": {
          "base_uri": "https://localhost:8080/",
          "height": 298
        }
      },
      "source": [
        "plt.plot(ps,num_tokens,\"-o\")\n",
        "plt.title(\"number of unique tokens\")"
      ],
      "execution_count": 0,
      "outputs": [
        {
          "output_type": "execute_result",
          "data": {
            "text/plain": [
              "Text(0.5, 1.0, 'number of unique tokens')"
            ]
          },
          "metadata": {
            "tags": []
          },
          "execution_count": 69
        },
        {
          "output_type": "display_data",
          "data": {
            "image/png": "[encoded data removed]",
            "text/plain": [
              "<Figure size 432x288 with 1 Axes>"
            ]
          },
          "metadata": {
            "tags": []
          }
        }
      ]
    },
    {
      "cell_type": "code",
      "metadata": {
        "id": "S_DjKdC7sU9x",
        "colab_type": "code",
        "colab": {}
      },
      "source": [
        ""
      ],
      "execution_count": 0,
      "outputs": []
    }
  ]
}