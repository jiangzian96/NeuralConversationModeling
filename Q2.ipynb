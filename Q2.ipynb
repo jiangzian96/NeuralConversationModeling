{
  "nbformat": 4,
  "nbformat_minor": 0,
  "metadata": {
    "kernelspec": {
      "name": "python3",
      "display_name": "Python 3"
    },
    "language_info": {
      "codemirror_mode": {
        "name": "ipython",
        "version": 3
      },
      "file_extension": ".py",
      "mimetype": "text/x-python",
      "name": "python",
      "nbconvert_exporter": "python",
      "pygments_lexer": "ipython3",
      "version": "3.7.4"
    },
    "colab": {
      "name": "Q2.ipynb",
      "provenance": [],
      "collapsed_sections": []
    },
    "accelerator": "GPU"
  },
  "cells": [
    {
      "cell_type": "markdown",
      "metadata": {
        "id": "QDg7gvt9sU9G",
        "colab_type": "text"
      },
      "source": [
        "# Homework 4: Conversation Modeling and decoding"
      ]
    },
    {
      "cell_type": "markdown",
      "metadata": {
        "id": "mgXOsWI0sU9Z",
        "colab_type": "text"
      },
      "source": [
        "# Part 2 Decoding"
      ]
    },
    {
      "cell_type": "markdown",
      "metadata": {
        "id": "9C4WkHICsU9Z",
        "colab_type": "text"
      },
      "source": [
        "# 2.1 Nucleus Sampling"
      ]
    },
    {
      "cell_type": "code",
      "metadata": {
        "id": "oTHPTC9PsU9a",
        "colab_type": "code",
        "colab": {}
      },
      "source": [
        "# implement nucleus sampling here.\n",
        "# you must cite any code you use from other sources!"
      ],
      "execution_count": 0,
      "outputs": []
    },
    {
      "cell_type": "code",
      "metadata": {
        "id": "T5h7kaKc0CEN",
        "colab_type": "code",
        "colab": {}
      },
      "source": [
        "import re\n",
        "from collections import Counter\n",
        "from tqdm import tqdm\n",
        "import json\n",
        "from torch.utils.data import Dataset, DataLoader\n",
        "import torch"
      ],
      "execution_count": 0,
      "outputs": []
    },
    {
      "cell_type": "code",
      "metadata": {
        "id": "-H1kwsMp0CHK",
        "colab_type": "code",
        "colab": {}
      },
      "source": [
        "RETOK = re.compile(r'\\w+|[^\\w\\s]|\\n', re.UNICODE)"
      ],
      "execution_count": 0,
      "outputs": []
    },
    {
      "cell_type": "code",
      "metadata": {
        "id": "sKx6rV-N0CJT",
        "colab_type": "code",
        "colab": {}
      },
      "source": [
        "class ChatDictionary(object):\n",
        "    \"\"\"\n",
        "    Simple dict loader\n",
        "    \"\"\"\n",
        "    def __init__(self, dict_file_path):\n",
        "        self.word2ind = {}  # word:index\n",
        "        self.ind2word = {}  # index:word\n",
        "        self.counts = {}  # word:count\n",
        "\n",
        "        dict_raw = open(dict_file_path, 'r').readlines()\n",
        "        \n",
        "        for i, w in enumerate(dict_raw):\n",
        "            _word, _count = w.strip().split('\\t')\n",
        "            if _word == '\\\\n':\n",
        "                _word = '\\n'\n",
        "            self.word2ind[_word] = i\n",
        "            self.ind2word[i] = _word\n",
        "            self.counts[_word] = _count\n",
        "            \n",
        "    def t2v(self, tokenized_text):\n",
        "        return [self.word2ind[w] if w in self.counts else self.word2ind['__unk__'] for w in tokenized_text]\n",
        "\n",
        "    def v2t(self, list_ids):\n",
        "        return ' '.join([self.ind2word[i] for i in list_ids])\n",
        "    \n",
        "    def pred2text(self, tensor):\n",
        "        result = []\n",
        "        for i in range(tensor.size(0)):\n",
        "            if tensor[i].item() == '__end__'  or tensor[i].item() == '__null__':  # null is pad\n",
        "                break\n",
        "            else:\n",
        "                result.append(self.ind2word[tensor[i].item()])\n",
        "        return ' '.join(result)\n",
        "    \n",
        "    def __len__(self):\n",
        "        return len(self.counts)"
      ],
      "execution_count": 0,
      "outputs": []
    },
    {
      "cell_type": "code",
      "metadata": {
        "id": "TSOUWDlI0CN6",
        "colab_type": "code",
        "colab": {}
      },
      "source": [
        "class ChatDataset(Dataset):\n",
        "    \"\"\"\n",
        "    Json dataset wrapper\n",
        "    \"\"\"\n",
        "    \n",
        "    def __init__(self, dataset_file_path, dictionary, dt='train'):\n",
        "        super().__init__()\n",
        "        \n",
        "        json_text = open(dataset_file_path, 'r').readlines()\n",
        "        self.samples = []\n",
        "        \n",
        "        for sample in tqdm(json_text):\n",
        "            sample = sample.rstrip()\n",
        "            sample = json.loads(sample)\n",
        "            _inp_toked = RETOK.findall(sample['text'])\n",
        "            _inp_toked_id = dictionary.t2v(_inp_toked)\n",
        "\n",
        "            sample['text_vec'] = torch.tensor(_inp_toked_id, dtype=torch.long)\n",
        "            \n",
        "            # train and valid have different key names for target\n",
        "            if dt == 'train':\n",
        "                _tar_toked = RETOK.findall(sample['labels'][0]) + ['__end__']\n",
        "            elif dt == 'valid':\n",
        "                _tar_toked = RETOK.findall(sample['eval_labels'][0]) + ['__end__']\n",
        "                \n",
        "            _tar_toked_id = dictionary.t2v(_tar_toked)\n",
        "            \n",
        "            sample['target_vec'] = torch.tensor(_tar_toked_id, dtype=torch.long)\n",
        "            \n",
        "            self.samples.append(sample)\n",
        "            \n",
        "    def __getitem__(self, i):\n",
        "        return self.samples[i]['text_vec'], self.samples[i]['target_vec']\n",
        "    \n",
        "    def __len__(self):\n",
        "        return len(self.samples)"
      ],
      "execution_count": 0,
      "outputs": []
    },
    {
      "cell_type": "code",
      "metadata": {
        "id": "giGSW-X90CQW",
        "colab_type": "code",
        "colab": {}
      },
      "source": [
        "def pad_tensor(tensors, sort=True, pad_token=0):\n",
        "    rows = len(tensors)\n",
        "    lengths = [len(i) for i in tensors]\n",
        "    max_t = max(lengths)\n",
        "        \n",
        "    output = tensors[0].new(rows, max_t)\n",
        "    output.fill_(pad_token)  # 0 is a pad token here\n",
        "    \n",
        "    for i, (tensor, length) in enumerate(zip(tensors, lengths)):\n",
        "        output[i,:length] = tensor\n",
        "\n",
        "    return output, lengths\n",
        "\n",
        "def argsort(keys, *lists, descending=False):\n",
        "    \"\"\"Reorder each list in lists by the (descending) sorted order of keys.\n",
        "    :param iter keys: Keys to order by.\n",
        "    :param list[list] lists: Lists to reordered by keys's order.\n",
        "                             Correctly handles lists and 1-D tensors.\n",
        "    :param bool descending: Use descending order if true.\n",
        "    :returns: The reordered items.\n",
        "    \"\"\"\n",
        "    ind_sorted = sorted(range(len(keys)), key=lambda k: keys[k])\n",
        "    if descending:\n",
        "        ind_sorted = list(reversed(ind_sorted))\n",
        "    output = []\n",
        "    for lst in lists:\n",
        "        if isinstance(lst, torch.Tensor):\n",
        "            output.append(lst[ind_sorted])\n",
        "        else:\n",
        "            output.append([lst[i] for i in ind_sorted])\n",
        "    return output\n",
        "\n",
        "def batchify(batch):\n",
        "    inputs = [i[0] for i in batch]\n",
        "    labels = [i[1] for i in batch]\n",
        "    \n",
        "    input_vecs, input_lens = pad_tensor(inputs)\n",
        "    label_vecs, label_lens = pad_tensor(labels)\n",
        "    \n",
        "    # sort only wrt inputs here for encoder packinng\n",
        "    input_vecs, input_lens, label_vecs, label_lens = argsort(input_lens, input_vecs, input_lens, label_vecs, label_lens, descending=True)\n",
        "\n",
        "    return {\n",
        "        \"text_vecs\": input_vecs,\n",
        "        \"text_lens\": input_lens,\n",
        "        \"target_vecs\": label_vecs,\n",
        "        \"target_lens\": label_lens,\n",
        "        'use_packed': True\n",
        "    }"
      ],
      "execution_count": 0,
      "outputs": []
    },
    {
      "cell_type": "code",
      "metadata": {
        "id": "kov9D0Nl0H8P",
        "colab_type": "code",
        "outputId": "a66cda3e-4506-4754-c57d-8b63076ee65d",
        "colab": {
          "base_uri": "https://localhost:8080/",
          "height": 1000
        }
      },
      "source": [
        "# loading datasets and dictionary\n",
        "\n",
        "# downloading pretrained models and data\n",
        "\n",
        "### DOWNLOADING THE FILES\n",
        "import os\n",
        "\n",
        "### persona chat dataset\n",
        "if not os.path.exists('./dict'):\n",
        "    !wget \"https://nyu.box.com/shared/static/sj9f87tofpicll89xbc154pmbztu5q4h\" -O './dict'\n",
        "if not os.path.exists('./train.jsonl'):\n",
        "    !wget \"https://nyu.box.com/shared/static/aqp0jyjaixjmukm5asasivq2bcfze075.jsonl\" -O './train.jsonl'\n",
        "if not os.path.exists('./valid.jsonl'):\n",
        "    !wget \"https://nyu.box.com/shared/static/eg4ivddtqib2hkf1k8rkxnmzmo0cq27p.jsonl\" -O './valid.jsonl'\n",
        "\n",
        "if not os.path.exists('./chat_model_best_22.pt'):\n",
        "    !wget \"https://nyu.box.com/shared/static/24zsynuks8nzg7530tgakzh8o62id9xa.pt\" -O './chat_model_best_22.pt'\n",
        "\n",
        "chat_dict = ChatDictionary('./dict')\n",
        "train_dataset = ChatDataset('./train.jsonl', chat_dict)\n",
        "valid_dataset = ChatDataset('./valid.jsonl', chat_dict, 'valid')"
      ],
      "execution_count": 0,
      "outputs": [
        {
          "output_type": "stream",
          "text": [
            "--2019-11-07 18:39:24--  https://nyu.box.com/shared/static/sj9f87tofpicll89xbc154pmbztu5q4h\n",
            "Resolving nyu.box.com (nyu.box.com)... 185.235.236.197\n",
            "Connecting to nyu.box.com (nyu.box.com)|185.235.236.197|:443... connected.\n",
            "HTTP request sent, awaiting response... 301 Moved Permanently\n",
            "Location: /public/static/sj9f87tofpicll89xbc154pmbztu5q4h [following]\n",
            "--2019-11-07 18:39:25--  https://nyu.box.com/public/static/sj9f87tofpicll89xbc154pmbztu5q4h\n",
            "Reusing existing connection to nyu.box.com:443.\n",
            "HTTP request sent, awaiting response... 301 Moved Permanently\n",
            "Location: https://nyu.app.box.com/public/static/sj9f87tofpicll89xbc154pmbztu5q4h [following]\n",
            "--2019-11-07 18:39:25--  https://nyu.app.box.com/public/static/sj9f87tofpicll89xbc154pmbztu5q4h\n",
            "Resolving nyu.app.box.com (nyu.app.box.com)... 185.235.236.199\n",
            "Connecting to nyu.app.box.com (nyu.app.box.com)|185.235.236.199|:443... connected.\n",
            "HTTP request sent, awaiting response... 302 Found\n",
            "Location: https://public.boxcloud.com/d/1/b1!ncqhhqS23MIDFZ9LVbbf6Nc1QlBzyzLrOHVHU9aBzSxNFPEIP-Th3z4bEWkd5n2ZVrhHV6j1uaUwGB2L2IHo_AwO0JrEdj9FrO2YIprD9VQUm4vgtm3GH292K7IxdEmQ9JYUuBImvwm4vHMt27u7eBwsjyuvZKOm59QxKXoLht54-fbhiCnPBhj6U3Cvng2o5zs_rIq6GoVox70RzT70abyWFeBNU3tz9UuJANtlaZu-fYdxuDo_U7XgH9vAgHztayN39hT2U6uV5N_PQZJrIECRap96IhCo8NA97xHwD0j4tKo5aQcbbKYAYCc0nGwKMMiG8Ae0RBr4edNaaomze-Tn4ih-pbV_z6slLGX63ZylKBcJDtcExMCjm_eQWoPiEgtK1ErvGzGE2Q-tcXA9l0cLlYH4-5oIN27kSUMpsWJ6QT9U1Nqn3ofy7lo6sFpR1GfXeIbnf7UhIJX59h9hJSZ99WgVjYF8EDjUE02sHHsYEpntLsBvruulPCI732CvvFtlE5y1__YHjRlpd2f-XsakPbkKzVjYRNCHaxGIOeHJ4YG8Z3J5pt0qcH9L9gLwbW8UDRTS5AEJPju_sLFheJwC6ANIeHVqQM5_0kyoUTz5TwhOoxHI6wrIEYdOqZ4RwF7wCGD2IagbsAX6hCoj87KYD1N3om_dgWmCrsNv7cI2xVDK0lDMuXuONEEN6lzyIBGJSyBbgj4yfIjdFLLqBOdz2MHiVkxyBtwNq9sM3jOglqXUgGe1pr93gfAEhfOXKW2CNODuPmfIz7i2BhTRTPXstjGVhb7GGjJgC-yEW45jqb3m8vfhmTtxa3G0yF3J15KJ4ksQBelduvYPhzdnEuwD0YlEjbItpFtP9aK7iDfy4DMWWxPcMnM9eKZ_8SI-mVOCs8XbUZ-cuvPKBvIExdbOx1yLcWsPY7eSLDV-ZUIXtq1BHrNyYCr-m6zsseSP7fqibEYELcvLXmysE4xt5qQ_HbFCCB6QI5zFBKkq2PAY_Ei4iQ43mQIaei4erkYR7WLCHtCLIrrq2wBZOi3CTJHAQ3J-RfqYbt6LWDPHi_KN-NqZmhVL708xaBy9AAIow0rCToITHz9XxxcN_d5Clq2b3yZXAYKDhUV7DIUMLBvrcPim0VlMU0nmq1kJ6L6SfPN9TK7tedL9pGE47_XQo2XAqEz4YV8dA5eDDMOohL9Vh4_5UhEZBGHtRgRMn0Co1xg3jJ9R3UDH5CtjAOs2I8hJ4BixneIP6LSXvIVStFwsQMqr6ZM_ExeTmopJ5QWXOPfb6UFePiWItbIV5jGxdBpX0Bq3EFd2KCFRW4R83yTWfJ6DSzer34w04ADLnjXRsvet5NOw8ijdGzXUeMOMddszOBglULQJUoDFysFhx86Y9g../download [following]\n",
            "--2019-11-07 18:39:26--  https://public.boxcloud.com/d/1/b1!ncqhhqS23MIDFZ9LVbbf6Nc1QlBzyzLrOHVHU9aBzSxNFPEIP-Th3z4bEWkd5n2ZVrhHV6j1uaUwGB2L2IHo_AwO0JrEdj9FrO2YIprD9VQUm4vgtm3GH292K7IxdEmQ9JYUuBImvwm4vHMt27u7eBwsjyuvZKOm59QxKXoLht54-fbhiCnPBhj6U3Cvng2o5zs_rIq6GoVox70RzT70abyWFeBNU3tz9UuJANtlaZu-fYdxuDo_U7XgH9vAgHztayN39hT2U6uV5N_PQZJrIECRap96IhCo8NA97xHwD0j4tKo5aQcbbKYAYCc0nGwKMMiG8Ae0RBr4edNaaomze-Tn4ih-pbV_z6slLGX63ZylKBcJDtcExMCjm_eQWoPiEgtK1ErvGzGE2Q-tcXA9l0cLlYH4-5oIN27kSUMpsWJ6QT9U1Nqn3ofy7lo6sFpR1GfXeIbnf7UhIJX59h9hJSZ99WgVjYF8EDjUE02sHHsYEpntLsBvruulPCI732CvvFtlE5y1__YHjRlpd2f-XsakPbkKzVjYRNCHaxGIOeHJ4YG8Z3J5pt0qcH9L9gLwbW8UDRTS5AEJPju_sLFheJwC6ANIeHVqQM5_0kyoUTz5TwhOoxHI6wrIEYdOqZ4RwF7wCGD2IagbsAX6hCoj87KYD1N3om_dgWmCrsNv7cI2xVDK0lDMuXuONEEN6lzyIBGJSyBbgj4yfIjdFLLqBOdz2MHiVkxyBtwNq9sM3jOglqXUgGe1pr93gfAEhfOXKW2CNODuPmfIz7i2BhTRTPXstjGVhb7GGjJgC-yEW45jqb3m8vfhmTtxa3G0yF3J15KJ4ksQBelduvYPhzdnEuwD0YlEjbItpFtP9aK7iDfy4DMWWxPcMnM9eKZ_8SI-mVOCs8XbUZ-cuvPKBvIExdbOx1yLcWsPY7eSLDV-ZUIXtq1BHrNyYCr-m6zsseSP7fqibEYELcvLXmysE4xt5qQ_HbFCCB6QI5zFBKkq2PAY_Ei4iQ43mQIaei4erkYR7WLCHtCLIrrq2wBZOi3CTJHAQ3J-RfqYbt6LWDPHi_KN-NqZmhVL708xaBy9AAIow0rCToITHz9XxxcN_d5Clq2b3yZXAYKDhUV7DIUMLBvrcPim0VlMU0nmq1kJ6L6SfPN9TK7tedL9pGE47_XQo2XAqEz4YV8dA5eDDMOohL9Vh4_5UhEZBGHtRgRMn0Co1xg3jJ9R3UDH5CtjAOs2I8hJ4BixneIP6LSXvIVStFwsQMqr6ZM_ExeTmopJ5QWXOPfb6UFePiWItbIV5jGxdBpX0Bq3EFd2KCFRW4R83yTWfJ6DSzer34w04ADLnjXRsvet5NOw8ijdGzXUeMOMddszOBglULQJUoDFysFhx86Y9g../download\n",
            "Resolving public.boxcloud.com (public.boxcloud.com)... 185.235.236.200\n",
            "Connecting to public.boxcloud.com (public.boxcloud.com)|185.235.236.200|:443... connected.\n",
            "HTTP request sent, awaiting response... 200 OK\n",
            "Length: 190210 (186K) [application/octet-stream]\n",
            "Saving to: ‘./dict’\n",
            "\n",
            "./dict              100%[===================>] 185.75K  1.11MB/s    in 0.2s    \n",
            "\n",
            "2019-11-07 18:39:26 (1.11 MB/s) - ‘./dict’ saved [190210/190210]\n",
            "\n",
            "--2019-11-07 18:39:27--  https://nyu.box.com/shared/static/aqp0jyjaixjmukm5asasivq2bcfze075.jsonl\n",
            "Resolving nyu.box.com (nyu.box.com)... 185.235.236.197\n",
            "Connecting to nyu.box.com (nyu.box.com)|185.235.236.197|:443... connected.\n",
            "HTTP request sent, awaiting response... 301 Moved Permanently\n",
            "Location: /public/static/aqp0jyjaixjmukm5asasivq2bcfze075.jsonl [following]\n",
            "--2019-11-07 18:39:27--  https://nyu.box.com/public/static/aqp0jyjaixjmukm5asasivq2bcfze075.jsonl\n",
            "Reusing existing connection to nyu.box.com:443.\n",
            "HTTP request sent, awaiting response... 301 Moved Permanently\n",
            "Location: https://nyu.app.box.com/public/static/aqp0jyjaixjmukm5asasivq2bcfze075.jsonl [following]\n",
            "--2019-11-07 18:39:28--  https://nyu.app.box.com/public/static/aqp0jyjaixjmukm5asasivq2bcfze075.jsonl\n",
            "Resolving nyu.app.box.com (nyu.app.box.com)... 185.235.236.199\n",
            "Connecting to nyu.app.box.com (nyu.app.box.com)|185.235.236.199|:443... connected.\n",
            "HTTP request sent, awaiting response... 302 Found\n",
            "Location: https://public.boxcloud.com/d/1/b1!MjivXxNYS7fEySo26j-XwKs4iAiNnEkKK3hve4_c8BTg3UmlfB5FW0ySo370l36Xhc07Lt67vFs1sj02WMAQeh0VpAcIGI5krdXLVbcDMN4Vqc1AY-6Klt2SAMVqdzk_0wnrSQDcLR23YWAK2_WFBOdYFGX35ERDPi9K9seDhBFjCacRawITk9-i1MsxCHxn_2eNpLbRClwLeaE3vlTawid3nRgCA56e0SNLJRp-pZBlfaYhCt4mkTCZBJzRd4qzeEAOXlIGNGt0XetDlzhphbshQXBx3c8tZdFBIsQutTmF6AXzIUqgSk7GATyw8A7qeKAXZVcEe0V8oLOPovihF66vr4vH1LT3MXWwxJEtp9bJR2yCYkOQciB9xZcolz0i2GA-EoKCgqJa1yerCYCFlfVhZM_-atihlcdi6bFT7-XejEa2M6AFQBcVkQDGSJqfOJutrYBphocpOulYTbH_WL1DkCkIHDOTzIUF7EguvrOx-9uKVihLlo-WjsnkDPrs6SACCLA36utnOt9pz23qwlpj7k_axv2V93z5KkLK94BZILnTdQcezN1SwTpo5jqYuvZVDdaONuzLhV9BmJ3ol8gwwhsG3G16mZiZzYrZ0YbfmXkKdRpd02UEGB63s8Jm3vsyMAH9UtVe62DRfXaz51-KNWpXr36UfvyFu_Deu3MQOBLEbHf2syc9dY4Q-GxjIrmJ8wfuoqnCQov5SXvf7iZAlxXxIpvjChsJpTgrGNcy7PBkesxEhY5lMN_mVioAAPf6iSll-m66W5ii9DOL5VX_lclkvFPTxseasi30E7DHu5udBYpMgr5cyb0Ws2157opD2zgRNFNhtBmfxb-NsqCNrL021muAJHRGg1UrcL9s8S5bqyoXNDZT2jAcTYYnV-l2JPN1QE1gb5J3hYYcInnT6CXctuJXhEyNej41gKVEHT-yJk2W597gNnU10YHm86q9ke4O7HavYblA8LG-BV74WlCTSdmb60aEJdHgf3PXNxaGagClk5hEWlTzZ-i1PCkxNhlwHmRykBApAMiEyrC8q-xFmEz8ke2TYHmkFkxMwVNwn_PcEYtN4AnlL2qXOxogOc9gxlMR883iXq9nMXl41zr20iw6VIiiaZbYN0R66TmzHdj9qQ96d5I1P2Qd44EqiHULj1-yHxK_tIjoSCFJ6u0YpRxfr0u1TIw9UCRwvdZeCt1lZv7bzpVO-gyt5_1a9Mayq4lPR3F4uNuGxw7f0XK7xDHiYnM1BmNd3wPdQtgr9aIl7rOkHwqgeAAYW4BNFoatl_Pj2nnejWRhU6rhz85cTwNC0ytxGwbtM9aPUK-OU9KafarZZTQi1nFPKbUKRsn8YcYa5x0T8r80GP3QN0O_xVJ0dAC8bSEhzje8dgjU2iQ_ZSTu-Cw./download [following]\n",
            "--2019-11-07 18:39:28--  https://public.boxcloud.com/d/1/b1!MjivXxNYS7fEySo26j-XwKs4iAiNnEkKK3hve4_c8BTg3UmlfB5FW0ySo370l36Xhc07Lt67vFs1sj02WMAQeh0VpAcIGI5krdXLVbcDMN4Vqc1AY-6Klt2SAMVqdzk_0wnrSQDcLR23YWAK2_WFBOdYFGX35ERDPi9K9seDhBFjCacRawITk9-i1MsxCHxn_2eNpLbRClwLeaE3vlTawid3nRgCA56e0SNLJRp-pZBlfaYhCt4mkTCZBJzRd4qzeEAOXlIGNGt0XetDlzhphbshQXBx3c8tZdFBIsQutTmF6AXzIUqgSk7GATyw8A7qeKAXZVcEe0V8oLOPovihF66vr4vH1LT3MXWwxJEtp9bJR2yCYkOQciB9xZcolz0i2GA-EoKCgqJa1yerCYCFlfVhZM_-atihlcdi6bFT7-XejEa2M6AFQBcVkQDGSJqfOJutrYBphocpOulYTbH_WL1DkCkIHDOTzIUF7EguvrOx-9uKVihLlo-WjsnkDPrs6SACCLA36utnOt9pz23qwlpj7k_axv2V93z5KkLK94BZILnTdQcezN1SwTpo5jqYuvZVDdaONuzLhV9BmJ3ol8gwwhsG3G16mZiZzYrZ0YbfmXkKdRpd02UEGB63s8Jm3vsyMAH9UtVe62DRfXaz51-KNWpXr36UfvyFu_Deu3MQOBLEbHf2syc9dY4Q-GxjIrmJ8wfuoqnCQov5SXvf7iZAlxXxIpvjChsJpTgrGNcy7PBkesxEhY5lMN_mVioAAPf6iSll-m66W5ii9DOL5VX_lclkvFPTxseasi30E7DHu5udBYpMgr5cyb0Ws2157opD2zgRNFNhtBmfxb-NsqCNrL021muAJHRGg1UrcL9s8S5bqyoXNDZT2jAcTYYnV-l2JPN1QE1gb5J3hYYcInnT6CXctuJXhEyNej41gKVEHT-yJk2W597gNnU10YHm86q9ke4O7HavYblA8LG-BV74WlCTSdmb60aEJdHgf3PXNxaGagClk5hEWlTzZ-i1PCkxNhlwHmRykBApAMiEyrC8q-xFmEz8ke2TYHmkFkxMwVNwn_PcEYtN4AnlL2qXOxogOc9gxlMR883iXq9nMXl41zr20iw6VIiiaZbYN0R66TmzHdj9qQ96d5I1P2Qd44EqiHULj1-yHxK_tIjoSCFJ6u0YpRxfr0u1TIw9UCRwvdZeCt1lZv7bzpVO-gyt5_1a9Mayq4lPR3F4uNuGxw7f0XK7xDHiYnM1BmNd3wPdQtgr9aIl7rOkHwqgeAAYW4BNFoatl_Pj2nnejWRhU6rhz85cTwNC0ytxGwbtM9aPUK-OU9KafarZZTQi1nFPKbUKRsn8YcYa5x0T8r80GP3QN0O_xVJ0dAC8bSEhzje8dgjU2iQ_ZSTu-Cw./download\n",
            "Resolving public.boxcloud.com (public.boxcloud.com)... 185.235.236.200\n",
            "Connecting to public.boxcloud.com (public.boxcloud.com)|185.235.236.200|:443... connected.\n",
            "HTTP request sent, awaiting response... 200 OK\n",
            "Length: 93166014 (89M) [application/octet-stream]\n",
            "Saving to: ‘./train.jsonl’\n",
            "\n",
            "./train.jsonl       100%[===================>]  88.85M  12.1MB/s    in 8.0s    \n",
            "\n",
            "2019-11-07 18:39:37 (11.2 MB/s) - ‘./train.jsonl’ saved [93166014/93166014]\n",
            "\n",
            "--2019-11-07 18:39:38--  https://nyu.box.com/shared/static/eg4ivddtqib2hkf1k8rkxnmzmo0cq27p.jsonl\n",
            "Resolving nyu.box.com (nyu.box.com)... 185.235.236.197\n",
            "Connecting to nyu.box.com (nyu.box.com)|185.235.236.197|:443... connected.\n",
            "HTTP request sent, awaiting response... 301 Moved Permanently\n",
            "Location: /public/static/eg4ivddtqib2hkf1k8rkxnmzmo0cq27p.jsonl [following]\n",
            "--2019-11-07 18:39:38--  https://nyu.box.com/public/static/eg4ivddtqib2hkf1k8rkxnmzmo0cq27p.jsonl\n",
            "Reusing existing connection to nyu.box.com:443.\n",
            "HTTP request sent, awaiting response... 301 Moved Permanently\n",
            "Location: https://nyu.app.box.com/public/static/eg4ivddtqib2hkf1k8rkxnmzmo0cq27p.jsonl [following]\n",
            "--2019-11-07 18:39:38--  https://nyu.app.box.com/public/static/eg4ivddtqib2hkf1k8rkxnmzmo0cq27p.jsonl\n",
            "Resolving nyu.app.box.com (nyu.app.box.com)... 185.235.236.199\n",
            "Connecting to nyu.app.box.com (nyu.app.box.com)|185.235.236.199|:443... connected.\n",
            "HTTP request sent, awaiting response... 302 Found\n",
            "Location: https://public.boxcloud.com/d/1/b1!Fn1d2K0DiWJOe-wcdTvh0u0ipE-bbOBuB0oP52ur627wwYDgYQMFZERnGUGte0ST40RN1C_yEA9bh_g4BcaIFl0-axsz_UO3bwSWKajZZi9UbZMDiADxA3we3fuu3tMrK61oQ-Bzc-eUJZc-roUIWayDAcpbZgPtAWQrGMHu72_Cqes_X1lVxV8CHroX7OIVHhYvQt6mIILU2W80ROkhm_cyHvN2vs8yiV93NN_dbVNC1eK3MZ82efKoncpdktP3kwqtcB8XBZ6Nc_EEuA7-syJT7M5kq_M8eRBnYod1M41hUQEFU_huouQJC8maVrDN7oy-tnOSc-BMct2PlIqAhDnUG7JjMEa4ryweD-rAg_-8aqR9a7XcAE5H8igDd1fIIPu2HuiqD0Up8gF2Vun57ox6_3jlCAFCvxNGB-4I0wNhwKhzzIXT_QmcYTv16X_IvpcIOyy5xaYX7xEQSvtWhcfc0S8fmqN0kEAO18Xxcegnm9uIGXHxX7KAWHPZWVNHmB7QA4Mvm8JQfU_of9LFI-YeJ1nOttThgfe5HKu4hEb6UIRS-73_LfEliUcepOJ7zOQykMhQBHDVs5xUm2ZV25KB3OhTpP8JX3n9sqCMgqUejKAYGqkooYzLYpPGpwUWesUNCHg-1IqUD2LuIR-JBTBM2p9_6XS7QoXfTl8dDuFa0zWlaDovwDGL_Cqw4nzAq0Fzr90UItifmxY1H5HAKO6Hgk5VQW48WhreBB8l8Dlj7KmVx5zjXNAtrUvcbILp3I0ykP2lpTX1U0CHO0RtYYARDRFbDg2e3U47Ru1kQDN6rvoZDn7p1074zpDB4ZvXFCQWVgLjOJORtxilGMyxqUxWWoT8p5bAJ62Bo3XVv-0Xu52X2yTly3JybVjD8P0ZTwKFCpLspc46vV-H7-Om30JSIkHIklvhLRJ2EzrK2dG85uE42xD7vS9uQOtaLXKgYjoHXW6-gTOEHLq2456ybYhdBU2rBU_uxWYrKCeZzSshPa4VhIRulwxIiIPz8dg79Sgrs9aGC728uIs0uhs4Q_1oPOOkVwSn4nJ1MMcPF83oOwX4bGBjaIn-M9dn4WW1v8PjYJJX0GgWLS7CWzGHT_93CpnEeTGVIsrhoOlDlyy8Ez40z3fOOasxH4mkq65_EzRgSA1THCmITLC5bLMLUFxm5j8X3jvToOcdRq4qLF8TU22WRfIaI8u3hi_Pw1wtleyGspMsrAs0XTXvstQXXQvc9RTTY_5vP_MWa-L656B7ZYwEmh40C_2VwPgWAqyxLZgh_1BbZe0i8uJWwDAA8IrDs8Wce_6QROyBKb3BQtOE5a1hMnl3x-Vz71qgWgjqghfei5i7RUnl7OK3hLkRc9Llqs7gE7iPRBAVBEAxEM2ddVzyovqjs0Ma/download [following]\n",
            "--2019-11-07 18:39:39--  https://public.boxcloud.com/d/1/b1!Fn1d2K0DiWJOe-wcdTvh0u0ipE-bbOBuB0oP52ur627wwYDgYQMFZERnGUGte0ST40RN1C_yEA9bh_g4BcaIFl0-axsz_UO3bwSWKajZZi9UbZMDiADxA3we3fuu3tMrK61oQ-Bzc-eUJZc-roUIWayDAcpbZgPtAWQrGMHu72_Cqes_X1lVxV8CHroX7OIVHhYvQt6mIILU2W80ROkhm_cyHvN2vs8yiV93NN_dbVNC1eK3MZ82efKoncpdktP3kwqtcB8XBZ6Nc_EEuA7-syJT7M5kq_M8eRBnYod1M41hUQEFU_huouQJC8maVrDN7oy-tnOSc-BMct2PlIqAhDnUG7JjMEa4ryweD-rAg_-8aqR9a7XcAE5H8igDd1fIIPu2HuiqD0Up8gF2Vun57ox6_3jlCAFCvxNGB-4I0wNhwKhzzIXT_QmcYTv16X_IvpcIOyy5xaYX7xEQSvtWhcfc0S8fmqN0kEAO18Xxcegnm9uIGXHxX7KAWHPZWVNHmB7QA4Mvm8JQfU_of9LFI-YeJ1nOttThgfe5HKu4hEb6UIRS-73_LfEliUcepOJ7zOQykMhQBHDVs5xUm2ZV25KB3OhTpP8JX3n9sqCMgqUejKAYGqkooYzLYpPGpwUWesUNCHg-1IqUD2LuIR-JBTBM2p9_6XS7QoXfTl8dDuFa0zWlaDovwDGL_Cqw4nzAq0Fzr90UItifmxY1H5HAKO6Hgk5VQW48WhreBB8l8Dlj7KmVx5zjXNAtrUvcbILp3I0ykP2lpTX1U0CHO0RtYYARDRFbDg2e3U47Ru1kQDN6rvoZDn7p1074zpDB4ZvXFCQWVgLjOJORtxilGMyxqUxWWoT8p5bAJ62Bo3XVv-0Xu52X2yTly3JybVjD8P0ZTwKFCpLspc46vV-H7-Om30JSIkHIklvhLRJ2EzrK2dG85uE42xD7vS9uQOtaLXKgYjoHXW6-gTOEHLq2456ybYhdBU2rBU_uxWYrKCeZzSshPa4VhIRulwxIiIPz8dg79Sgrs9aGC728uIs0uhs4Q_1oPOOkVwSn4nJ1MMcPF83oOwX4bGBjaIn-M9dn4WW1v8PjYJJX0GgWLS7CWzGHT_93CpnEeTGVIsrhoOlDlyy8Ez40z3fOOasxH4mkq65_EzRgSA1THCmITLC5bLMLUFxm5j8X3jvToOcdRq4qLF8TU22WRfIaI8u3hi_Pw1wtleyGspMsrAs0XTXvstQXXQvc9RTTY_5vP_MWa-L656B7ZYwEmh40C_2VwPgWAqyxLZgh_1BbZe0i8uJWwDAA8IrDs8Wce_6QROyBKb3BQtOE5a1hMnl3x-Vz71qgWgjqghfei5i7RUnl7OK3hLkRc9Llqs7gE7iPRBAVBEAxEM2ddVzyovqjs0Ma/download\n",
            "Resolving public.boxcloud.com (public.boxcloud.com)... 185.235.236.200\n",
            "Connecting to public.boxcloud.com (public.boxcloud.com)|185.235.236.200|:443... connected.\n",
            "HTTP request sent, awaiting response... 200 OK\n",
            "Length: 6044784 (5.8M) [application/octet-stream]\n",
            "Saving to: ‘./valid.jsonl’\n",
            "\n",
            "./valid.jsonl       100%[===================>]   5.76M  6.84MB/s    in 0.8s    \n",
            "\n",
            "2019-11-07 18:39:40 (6.84 MB/s) - ‘./valid.jsonl’ saved [6044784/6044784]\n",
            "\n",
            "--2019-11-07 18:39:41--  https://nyu.box.com/shared/static/24zsynuks8nzg7530tgakzh8o62id9xa.pt\n",
            "Resolving nyu.box.com (nyu.box.com)... 185.235.236.197\n",
            "Connecting to nyu.box.com (nyu.box.com)|185.235.236.197|:443... connected.\n",
            "HTTP request sent, awaiting response... 301 Moved Permanently\n",
            "Location: /public/static/24zsynuks8nzg7530tgakzh8o62id9xa.pt [following]\n",
            "--2019-11-07 18:39:41--  https://nyu.box.com/public/static/24zsynuks8nzg7530tgakzh8o62id9xa.pt\n",
            "Reusing existing connection to nyu.box.com:443.\n",
            "HTTP request sent, awaiting response... 301 Moved Permanently\n",
            "Location: https://nyu.app.box.com/public/static/24zsynuks8nzg7530tgakzh8o62id9xa.pt [following]\n",
            "--2019-11-07 18:39:42--  https://nyu.app.box.com/public/static/24zsynuks8nzg7530tgakzh8o62id9xa.pt\n",
            "Resolving nyu.app.box.com (nyu.app.box.com)... 185.235.236.199\n",
            "Connecting to nyu.app.box.com (nyu.app.box.com)|185.235.236.199|:443... connected.\n",
            "HTTP request sent, awaiting response... 302 Found\n",
            "Location: https://public.boxcloud.com/d/1/b1!fQIW9uFVdW1svBIwGsW4OHYzJC1H5Qi_sATnUy0ly3B6GK9-i3cx_mlQ4623fBcodyN0P_5s3xk-_lGsqoHrHV42F-FiDIQsVT6SYceywW7iaDcRUt-WZYPpDHWLsgapKu448egoiSqfIeUqgzwZkNxVDNldBw_aYvwe36wnK-om3e-99gT_-1zGKulPuIvIEKzDV3MeO2BmV8rdm3mCeXTxl7CMcPbAeu4xDK81AFvmglGCOBLWfjvzFRkNCDJQP5pgXBAzj8X9hxaninqMVtO5b8iG58HlbocO8hUmCoBCSw0XVfbe8Xlz_aavSpJlK52sn0kfrwu50hjjSvxFj33KeT1EIVZZMucr22GuiejxuSVDdu2Kr7-yMRuXG3ksDAM6O333uJV9hY5wDwqHGlOdU7INW42A7Ix0XHtyPCX_CnR2rfK9qw-9lKCqoA6nS8L5em2d_-okbp4lm9y58upuAZfeahSo-V9BIbPxc4rULIFC51Ag58Li_SwVgmPbexlGMz69jq2ZriaaGdzzOP1z0tm9OtGxuGbq0BsXf9FLaw_LUpXEA7zfokCHxu9gL_H6pSXBbGz71GwjrZb-BlQo6_Ca5sVHECN72GOn7beLhN2q7kPX6pvD_LhYqc6eGMdKTgOYWtwsaVvCJHuEOMCozyIahtMoywDkoN-ZB4lpsW_Vag9NQVTBp2oAjDh7hrggTPiEzg1sosqmLj40mkKa68Cm___PuO7bGqHj0JZQOT-8ED1PtTs_Y5XcUurVFkIxOu35hx1HRWh_zzRR5U92-MCSH6e9X8pMdgktDsaA-xugFIkvwjWdbRMXwy5TMohjRfxPHKFFgEYmg9-jGUtp95MzMnHl1x3ae2rkMZC7FuZ7z8s2POF4xZEqe2TwMr6gf66ony7izoMuweQmbHJp_MB5TIWAsJwAzvzBp-N--k3MV2ny0vIfbpvQ8E5vrq4v9W3vVjcMZWyEs8Bnzt-SiTMxLELQrhjnFZKEooD1D8r1nAnZfi7TS5jPmLW3nirtm5m1IqTs9VutTd92dMJwEUN3xAmzbvkVrxWtImsMzq8ClOBQhICd2TDlV_jC9rU4gmMO9Bvml-ShKWsz_M_LxezzDDBU6GuJu6H6EP_hBVWTYgN3WxmomiWoSTxjHzyp-srA-wZShvzdira3TaxsOE4zulMufpDsUyeb2WtwHonA06kZqxukkSLwmztZONEGjNy8XC-se6HMtDZFxtx1mRkYLOnORMZY2GViix7mYPyG66UGc-zBHzTWqar3qc-8DK_t-LyEfs8X0wqJS8_rA41Aw21fUjV2Yy6IB7GLvH9RT8kYXHh9q0gnBmBHiFDT3qKqZP3ofTzJRHVGEcI0NOIH1-TfXgBayrAja6QGvcYLe4sR2mcAYks6mkLjJwHY-QF5/download [following]\n",
            "--2019-11-07 18:39:42--  https://public.boxcloud.com/d/1/b1!fQIW9uFVdW1svBIwGsW4OHYzJC1H5Qi_sATnUy0ly3B6GK9-i3cx_mlQ4623fBcodyN0P_5s3xk-_lGsqoHrHV42F-FiDIQsVT6SYceywW7iaDcRUt-WZYPpDHWLsgapKu448egoiSqfIeUqgzwZkNxVDNldBw_aYvwe36wnK-om3e-99gT_-1zGKulPuIvIEKzDV3MeO2BmV8rdm3mCeXTxl7CMcPbAeu4xDK81AFvmglGCOBLWfjvzFRkNCDJQP5pgXBAzj8X9hxaninqMVtO5b8iG58HlbocO8hUmCoBCSw0XVfbe8Xlz_aavSpJlK52sn0kfrwu50hjjSvxFj33KeT1EIVZZMucr22GuiejxuSVDdu2Kr7-yMRuXG3ksDAM6O333uJV9hY5wDwqHGlOdU7INW42A7Ix0XHtyPCX_CnR2rfK9qw-9lKCqoA6nS8L5em2d_-okbp4lm9y58upuAZfeahSo-V9BIbPxc4rULIFC51Ag58Li_SwVgmPbexlGMz69jq2ZriaaGdzzOP1z0tm9OtGxuGbq0BsXf9FLaw_LUpXEA7zfokCHxu9gL_H6pSXBbGz71GwjrZb-BlQo6_Ca5sVHECN72GOn7beLhN2q7kPX6pvD_LhYqc6eGMdKTgOYWtwsaVvCJHuEOMCozyIahtMoywDkoN-ZB4lpsW_Vag9NQVTBp2oAjDh7hrggTPiEzg1sosqmLj40mkKa68Cm___PuO7bGqHj0JZQOT-8ED1PtTs_Y5XcUurVFkIxOu35hx1HRWh_zzRR5U92-MCSH6e9X8pMdgktDsaA-xugFIkvwjWdbRMXwy5TMohjRfxPHKFFgEYmg9-jGUtp95MzMnHl1x3ae2rkMZC7FuZ7z8s2POF4xZEqe2TwMr6gf66ony7izoMuweQmbHJp_MB5TIWAsJwAzvzBp-N--k3MV2ny0vIfbpvQ8E5vrq4v9W3vVjcMZWyEs8Bnzt-SiTMxLELQrhjnFZKEooD1D8r1nAnZfi7TS5jPmLW3nirtm5m1IqTs9VutTd92dMJwEUN3xAmzbvkVrxWtImsMzq8ClOBQhICd2TDlV_jC9rU4gmMO9Bvml-ShKWsz_M_LxezzDDBU6GuJu6H6EP_hBVWTYgN3WxmomiWoSTxjHzyp-srA-wZShvzdira3TaxsOE4zulMufpDsUyeb2WtwHonA06kZqxukkSLwmztZONEGjNy8XC-se6HMtDZFxtx1mRkYLOnORMZY2GViix7mYPyG66UGc-zBHzTWqar3qc-8DK_t-LyEfs8X0wqJS8_rA41Aw21fUjV2Yy6IB7GLvH9RT8kYXHh9q0gnBmBHiFDT3qKqZP3ofTzJRHVGEcI0NOIH1-TfXgBayrAja6QGvcYLe4sR2mcAYks6mkLjJwHY-QF5/download\n",
            "Resolving public.boxcloud.com (public.boxcloud.com)... 185.235.236.200\n",
            "Connecting to public.boxcloud.com (public.boxcloud.com)|185.235.236.200|:443... connected.\n",
            "HTTP request sent, awaiting response... 200 OK\n",
            "Length: 69267718 (66M) [application/octet-stream]\n",
            "Saving to: ‘./chat_model_best_22.pt’\n",
            "\n",
            "./chat_model_best_2 100%[===================>]  66.06M  12.3MB/s    in 6.0s    \n",
            "\n",
            "2019-11-07 18:39:49 (11.0 MB/s) - ‘./chat_model_best_22.pt’ saved [69267718/69267718]\n",
            "\n"
          ],
          "name": "stdout"
        },
        {
          "output_type": "stream",
          "text": [
            "100%|██████████| 131438/131438 [00:09<00:00, 13148.07it/s]\n",
            "100%|██████████| 7801/7801 [00:00<00:00, 13296.85it/s]\n"
          ],
          "name": "stderr"
        }
      ]
    },
    {
      "cell_type": "code",
      "metadata": {
        "id": "LeASqRTH0H-S",
        "colab_type": "code",
        "outputId": "ebad6307-d904-48c2-f448-868661b47333",
        "colab": {
          "base_uri": "https://localhost:8080/",
          "height": 136
        }
      },
      "source": [
        "print(train_dataset[0])\n",
        "train_loader = DataLoader(train_dataset, shuffle=True, collate_fn=batchify, batch_size=256)\n",
        "valid_loader = DataLoader(valid_dataset, shuffle=False, collate_fn=batchify, batch_size=256)"
      ],
      "execution_count": 0,
      "outputs": [
        {
          "output_type": "stream",
          "text": [
            "(tensor([   7,   10,   12,    5,   21,   14, 3583, 1607,    4,   11,    7,   10,\n",
            "          12,    5,   21,   14,   56,  655,    4,   11,    7,   10,   12,    5,\n",
            "          21,   14, 1806,    8, 2105,    4,   11,    7,   10,   12,   15,   44,\n",
            "        1255,   18,  862,    4,   11,   58,   13,   34,   25,    6,   65,    9,\n",
            "           5,   16,   26,  245,  430,   14,   17,   97, 6377, 2587,   14,  286,\n",
            "          24, 1145,    4]), tensor([  6, 252,  46,  83, 351,   4, 655,  18,  79,  30,  15,  44, 171,   4,\n",
            "          2]))\n"
          ],
          "name": "stdout"
        }
      ]
    },
    {
      "cell_type": "code",
      "metadata": {
        "id": "wzZsIO5J0IA1",
        "colab_type": "code",
        "colab": {}
      },
      "source": [
        "import torch.nn as nn\n",
        "from torch.nn.utils.rnn import pack_padded_sequence, pad_packed_sequence\n",
        "\n",
        "class EncoderRNN(nn.Module):\n",
        "    \"\"\"Encodes the input context.\"\"\"\n",
        "\n",
        "    def __init__(self, vocab_size, embed_size, hidden_size, num_layers, pad_idx=0, dropout=0, shared_lt=None):\n",
        "        super().__init__()\n",
        "        self.vocab_size = vocab_size\n",
        "        self.embed_size = embed_size\n",
        "        self.hidden_size = hidden_size\n",
        "        self.num_layers = num_layers\n",
        "        self.dropout = nn.Dropout(p=dropout)\n",
        "        self.pad_idx = pad_idx\n",
        "        \n",
        "        if shared_lt is None:\n",
        "            self.embedding = nn.Embedding(self.vocab_size, self.embed_size, pad_idx)\n",
        "        else:\n",
        "            self.embedding = shared_lt\n",
        "            \n",
        "        self.gru = nn.GRU(\n",
        "            self.embed_size, self.hidden_size, num_layers=self.num_layers, batch_first=True, dropout=dropout if num_layers > 1 else 0,\n",
        "        )\n",
        "        \n",
        "        \n",
        "    def forward(self, text_vec, text_lens, hidden=None, use_packed=True):\n",
        "        embedded = self.embedding(text_vec)\n",
        "        attention_mask = text_vec.ne(self.pad_idx)\n",
        "\n",
        "        embedded = self.dropout(embedded)\n",
        "        if use_packed is True:\n",
        "            embedded = pack_padded_sequence(embedded, text_lens, batch_first=True)\n",
        "        output, hidden = self.gru(embedded, hidden)\n",
        "        if use_packed is True:\n",
        "            output, output_lens = pad_packed_sequence(output, batch_first=True)\n",
        "        \n",
        "        return output, hidden, attention_mask\n",
        "\n",
        "    \n",
        "class DecoderRNN(nn.Module):\n",
        "    \"\"\"Generates a sequence of tokens in response to context.\"\"\"\n",
        "\n",
        "    def __init__(self, vocab_size, embed_size, hidden_size, num_layers, dropout=0):\n",
        "        super().__init__()\n",
        "        self.vocab_size = vocab_size\n",
        "        self.embed_size = embed_size\n",
        "        self.hidden_size = hidden_size\n",
        "        self.num_layers = num_layers\n",
        "        self.dropout = nn.Dropout(p=dropout)\n",
        "        \n",
        "        self.embedding = nn.Embedding(self.vocab_size, self.embed_size, 0)\n",
        "        \n",
        "        self.gru = nn.GRU(\n",
        "            self.embed_size, self.hidden_size, num_layers=self.num_layers, batch_first=True, dropout=dropout if num_layers > 1 else 0,\n",
        "        )\n",
        "        \n",
        "        self.attention = AttentionLayer(self.hidden_size, self.embed_size)\n",
        "\n",
        "        self.out = nn.Linear(self.hidden_size, self.vocab_size)\n",
        "        self.longest_label = 100\n",
        "\n",
        "    def forward(self, text_vec, decoder_hidden, encoder_states):\n",
        "        emb = self.embedding(text_vec)\n",
        "        emb = self.dropout(emb)\n",
        "        seqlen = text_vec.size(1)\n",
        "        encoder_output, encoder_hidden, attention_mask = encoder_states\n",
        "        \n",
        "        decoder_hidden = decoder_hidden\n",
        "        output = []\n",
        "        attn_w_log = []\n",
        "\n",
        "        for i in range(seqlen):\n",
        "            decoder_output, decoder_hidden = self.gru(emb[:,i,:].unsqueeze(1), decoder_hidden)\n",
        "            \n",
        "            # compute attention at each time step\n",
        "            decoder_output_attended, attn_weights = self.attention(decoder_output, decoder_hidden, encoder_output, attention_mask)\n",
        "            output.append(decoder_output_attended)\n",
        "            attn_w_log.append(attn_weights)\n",
        "            \n",
        "        output = torch.cat(output, dim=1).to(text_vec.device)\n",
        "        scores = self.out(output)\n",
        "        \n",
        "        return scores, decoder_hidden, attn_w_log\n",
        "    \n",
        "    def decode_forced(self, ys, encoder_states, xs_lens):\n",
        "        encoder_output, encoder_hidden, attention_mask = encoder_states\n",
        "        \n",
        "        batch_size = ys.size(0)\n",
        "        target_length = ys.size(1)\n",
        "        longest_label = max(target_length, self.longest_label)\n",
        "        \n",
        "        starts = torch.Tensor([1]).long().to(self.embedding.weight.device).expand(batch_size, 1).long()  # expand to batch size\n",
        "        \n",
        "        # Teacher forcing: Feed the target as the next input\n",
        "        y_in = ys.narrow(1, 0, ys.size(1) - 1)\n",
        "        decoder_input = torch.cat([starts, y_in], 1)\n",
        "        decoder_output, decoder_hidden, attn_w_log = self.forward(decoder_input, encoder_hidden, encoder_states)\n",
        "        _, preds = decoder_output.max(dim=2)\n",
        "        \n",
        "        return decoder_output, preds, attn_w_log\n",
        "    \n",
        "    \n",
        "class AttentionLayer(nn.Module):\n",
        "\n",
        "    def __init__(self, hidden_size, embedding_size):\n",
        "        super().__init__()\n",
        "        input_dim = hidden_size\n",
        "\n",
        "        self.linear_out = nn.Linear(hidden_size+input_dim, input_dim, bias=False)\n",
        "        self.softmax = nn.Softmax(dim=-1)\n",
        "        self.tanh = nn.Tanh()\n",
        "\n",
        "    def forward(self, decoder_output, decoder_hidden, encoder_output, attention_mask):\n",
        "\n",
        "        batch_size, seq_length, hidden_size = encoder_output.size()\n",
        "\n",
        "        encoder_output_t = encoder_output.transpose(1,2)\n",
        "        \n",
        "        attention_scores = torch.bmm(decoder_output, encoder_output_t).squeeze(1)\n",
        "\n",
        "        attention_scores.masked_fill_((~attention_mask), -10e5)\n",
        "        attention_weights = self.softmax(attention_scores)\n",
        "\n",
        "        mix = torch.bmm(attention_weights.unsqueeze(1), encoder_output)\n",
        "\n",
        "        combined = torch.cat((decoder_output.squeeze(1), mix.squeeze(1)), dim=1)\n",
        "\n",
        "        output = self.linear_out(combined).unsqueeze(1)\n",
        "        output = self.tanh(output)\n",
        "\n",
        "        return output, attention_weights\n",
        "    \n",
        "    \n",
        "class seq2seq(nn.Module):\n",
        "    \"\"\"\n",
        "    Generic seq2seq model with attention mechanism.\n",
        "    \"\"\"\n",
        "    def __init__(self, opts):\n",
        "\n",
        "        super().__init__()\n",
        "        self.opts = opts\n",
        "        \n",
        "        self.decoder = DecoderRNN(\n",
        "                                    vocab_size=self.opts['vocab_size'],\n",
        "                                    embed_size=self.opts['embedding_size'],\n",
        "                                    hidden_size=self.opts['hidden_size'],\n",
        "                                    num_layers=self.opts['num_layers_dec'],\n",
        "                                    dropout=self.opts['dropout'],\n",
        "                                )\n",
        "        \n",
        "        self.encoder = EncoderRNN(\n",
        "                                    vocab_size=self.opts['vocab_size'],\n",
        "                                    embed_size=self.opts['embedding_size'],\n",
        "                                    hidden_size=self.opts['hidden_size'],\n",
        "                                    num_layers=self.opts['num_layers_enc'],\n",
        "                                    dropout=self.opts['dropout'],\n",
        "                                    shared_lt=self.decoder.embedding\n",
        "        )\n",
        "        \n",
        "    def train(self):\n",
        "        self.encoder.train()\n",
        "        self.decoder.train()\n",
        "        \n",
        "    def eval(self):\n",
        "        self.encoder.eval()\n",
        "        self.decoder.eval()"
      ],
      "execution_count": 0,
      "outputs": []
    },
    {
      "cell_type": "code",
      "metadata": {
        "id": "j8Rcrywj0CSz",
        "colab_type": "code",
        "outputId": "35af4ef4-6fa2-4f78-afa2-926d299888bc",
        "colab": {
          "base_uri": "https://localhost:8080/",
          "height": 323
        }
      },
      "source": [
        "current_device = 'cuda'\n",
        "model_pt = torch.load('./chat_model_best_22.pt')\n",
        "opts = model_pt['opts']    \n",
        "model = seq2seq(opts)\n",
        "model.load_state_dict(model_pt['state_dict'])\n",
        "model.to(current_device)"
      ],
      "execution_count": 0,
      "outputs": [
        {
          "output_type": "execute_result",
          "data": {
            "text/plain": [
              "seq2seq(\n",
              "  (decoder): DecoderRNN(\n",
              "    (dropout): Dropout(p=0.3, inplace=False)\n",
              "    (embedding): Embedding(18760, 256, padding_idx=0)\n",
              "    (gru): GRU(256, 512, batch_first=True)\n",
              "    (attention): AttentionLayer(\n",
              "      (linear_out): Linear(in_features=1024, out_features=512, bias=False)\n",
              "      (softmax): Softmax(dim=-1)\n",
              "      (tanh): Tanh()\n",
              "    )\n",
              "    (out): Linear(in_features=512, out_features=18760, bias=True)\n",
              "  )\n",
              "  (encoder): EncoderRNN(\n",
              "    (dropout): Dropout(p=0.3, inplace=False)\n",
              "    (embedding): Embedding(18760, 256, padding_idx=0)\n",
              "    (gru): GRU(256, 512, batch_first=True)\n",
              "  )\n",
              ")"
            ]
          },
          "metadata": {
            "tags": []
          },
          "execution_count": 10
        }
      ]
    },
    {
      "cell_type": "code",
      "metadata": {
        "id": "5qd4vWr90oyj",
        "colab_type": "code",
        "outputId": "05488ede-df3a-4f64-d592-dc3d5a88ab55",
        "colab": {
          "base_uri": "https://localhost:8080/",
          "height": 34
        }
      },
      "source": [
        "len(chat_dict)"
      ],
      "execution_count": 0,
      "outputs": [
        {
          "output_type": "execute_result",
          "data": {
            "text/plain": [
              "18760"
            ]
          },
          "metadata": {
            "tags": []
          },
          "execution_count": 11
        }
      ]
    },
    {
      "cell_type": "code",
      "metadata": {
        "id": "C2-k4PYZ0UBa",
        "colab_type": "code",
        "colab": {}
      },
      "source": [
        "import torch.nn.functional as F\n",
        "def nucleus_sampling(logits,p=0.0,filter_value=-float('Inf')):\n",
        "  # https://medium.com/huggingface/how-to-build-a-state-of-the-art-conversational-ai-with-transfer-learning-2d818ac26313\n",
        "    sorted_logits, sorted_indices = torch.sort(logits, descending=True)\n",
        "    cumulative_probs = torch.cumsum(F.softmax(sorted_logits, dim=-1), dim=-1)\n",
        "\n",
        "    # Remove tokens with cumulative probability above the threshold\n",
        "    sorted_indices_to_remove = cumulative_probs > p\n",
        "    # Shift the indices to the right to keep also the first token above the threshold\n",
        "    sorted_indices_to_remove[1:] = sorted_indices_to_remove[:-1].clone()\n",
        "    sorted_indices_to_remove[0] = 0\n",
        "\n",
        "    indices_to_remove = sorted_indices[sorted_indices_to_remove]\n",
        "    logits[indices_to_remove] = filter_value\n",
        "    return logits\n"
      ],
      "execution_count": 0,
      "outputs": []
    },
    {
      "cell_type": "code",
      "metadata": {
        "id": "AtRBU4R60UD-",
        "colab_type": "code",
        "outputId": "5c606bbb-251d-4bc7-84ea-ed9c73f37c01",
        "colab": {
          "base_uri": "https://localhost:8080/",
          "height": 34
        }
      },
      "source": [
        "for i, batch in enumerate(valid_loader):\n",
        "    model.eval()\n",
        "    text_vecs = batch['text_vecs'].to('cuda')\n",
        "    target_vecs = batch['target_vecs'].to('cuda')\n",
        "    text_lens = batch['text_lens']\n",
        "    print(text_vecs.shape)\n",
        "    break"
      ],
      "execution_count": 0,
      "outputs": [
        {
          "output_type": "stream",
          "text": [
            "torch.Size([256, 332])\n"
          ],
          "name": "stdout"
        }
      ]
    },
    {
      "cell_type": "code",
      "metadata": {
        "id": "HL0pD9TFKsvk",
        "colab_type": "code",
        "colab": {}
      },
      "source": [
        "import numpy as np\n",
        "def greedy_search(model, batch, batch_size,p):\n",
        "    model.eval()\n",
        "        \n",
        "    text_vecs = batch['text_vecs'].to(current_device)\n",
        "\n",
        "    encoded = model.encoder(text_vecs, batch['text_lens'], use_packed=batch['use_packed'])\n",
        "    \n",
        "    encoder_output, encoder_hidden, attention_mask = encoded\n",
        "        \n",
        "    # 1 is __start__\n",
        "    starts = torch.Tensor([1]).long().to(model.decoder.embedding.weight.device).expand(batch_size, 1).long()  # expand to batch size\n",
        "    decoder_hidden = encoder_hidden\n",
        "\n",
        "    # greedy decoding here        \n",
        "    preds = [starts.view(-1)]\n",
        "    scores = []\n",
        "    log_prob = 0.0\n",
        "    # track if each sample in the mini batch is finished\n",
        "    # if all finished, stop predicting\n",
        "    finish_mask = torch.Tensor([0]*batch_size).byte().to(model.decoder.embedding.weight.device)\n",
        "    xs = starts\n",
        "    _attn_w_log = []\n",
        "\n",
        "    for ts in range(100):\n",
        "        decoder_output, decoder_hidden, attn_w_log = model.decoder(xs.view(1,-1), decoder_hidden, encoded)  # decoder_output: [batch, time, vocab]\n",
        "        temp = F.softmax(decoder_output.view(-1),dim=-1)\n",
        "        logits = nucleus_sampling(decoder_output.view(-1),p=p)\n",
        "        prob_dist = F.softmax(logits,dim=-1)\n",
        "        _preds = torch.multinomial(prob_dist,1)\n",
        "        _scores = temp[_preds.item()]\n",
        "        log_prob += np.log(_scores.item())\n",
        "        preds.append(_preds)\n",
        "        _attn_w_log.append(attn_w_log)\n",
        "        scores.append(_scores.view(-1)*(finish_mask == 0).float())\n",
        "\n",
        "        finish_mask += (_preds == 2).byte().view(-1)\n",
        "        if not (torch.any(~finish_mask.bool())):\n",
        "            break\n",
        "        \n",
        "        xs = _preds\n",
        "    preds = torch.cat(preds, dim=-1)\n",
        "        \n",
        "    return scores, preds, log_prob"
      ],
      "execution_count": 0,
      "outputs": []
    },
    {
      "cell_type": "code",
      "metadata": {
        "id": "GM07ESU0KsyR",
        "colab_type": "code",
        "outputId": "4ff01cba-dc7f-470d-b043-14fcb7741201",
        "colab": {
          "base_uri": "https://localhost:8080/",
          "height": 170
        }
      },
      "source": [
        "inputs = RETOK.findall(chat_dict.v2t(valid_dataset[0][0].tolist()))\n",
        "\n",
        "test_batch = {\n",
        "    'text_vecs': torch.tensor([chat_dict.t2v(inputs)], dtype=torch.long, device=model.decoder.embedding.weight.device),\n",
        "    'text_lens': torch.tensor([len(inputs)], dtype=torch.long),\n",
        "    'use_packed': True,\n",
        "}\n",
        "\n",
        "print(\" \".join(inputs),\"\\n\")\n",
        "scores, output, log_prob = greedy_search(model, test_batch, 1,0.9)\n",
        "\n",
        "print(chat_dict.v2t(output.tolist()),\"\\n\")\n",
        "print(\"log_prob:\",log_prob)"
      ],
      "execution_count": 0,
      "outputs": [
        {
          "output_type": "stream",
          "text": [
            "your persona : i read twenty books a year . \n",
            " your persona : i ' m a stunt double as my second job . \n",
            " your persona : i only eat __unk__ . \n",
            " your persona : i was raised in a single parent household . \n",
            " hello what are doing today ? \n",
            "\n",
            "__start__ i ' m reading and reading . how about you ? __end__ \n",
            "\n",
            "log_prob: -15.537554373486339\n"
          ],
          "name": "stdout"
        }
      ]
    },
    {
      "cell_type": "code",
      "metadata": {
        "id": "wF4HQzLTK2v_",
        "colab_type": "code",
        "colab": {}
      },
      "source": [
        ""
      ],
      "execution_count": 0,
      "outputs": []
    },
    {
      "cell_type": "code",
      "metadata": {
        "id": "U53tL2ohKstJ",
        "colab_type": "code",
        "colab": {}
      },
      "source": [
        ""
      ],
      "execution_count": 0,
      "outputs": []
    },
    {
      "cell_type": "markdown",
      "metadata": {
        "id": "HeYFpHwasU9c",
        "colab_type": "text"
      },
      "source": [
        "## You present here:"
      ]
    },
    {
      "cell_type": "code",
      "metadata": {
        "id": "BoWX2fivsU9d",
        "colab_type": "code",
        "colab": {}
      },
      "source": [
        "# check pdf to see what you expected to present"
      ],
      "execution_count": 0,
      "outputs": []
    },
    {
      "cell_type": "code",
      "metadata": {
        "id": "AMivdA0fsU9f",
        "colab_type": "code",
        "colab": {}
      },
      "source": [
        ""
      ],
      "execution_count": 0,
      "outputs": []
    },
    {
      "cell_type": "markdown",
      "metadata": {
        "id": "jxhSznINsU9h",
        "colab_type": "text"
      },
      "source": [
        "## 2.2 N-Gram blocking"
      ]
    },
    {
      "cell_type": "code",
      "metadata": {
        "id": "MuYRvyZOsU9i",
        "colab_type": "code",
        "outputId": "1ed3a646-ce65-45b5-fb86-da2a01bbf51a",
        "colab": {}
      },
      "source": [
        "# implement n-gram blocking\n",
        "# carefully read instructions in pdf\n",
        "\n",
        "# we give you some small hint code here which can be helpful\n",
        "\n",
        "l = [1,2,3,4,5,6,4,5,6]\n",
        "\n",
        "history = tuple(l[-2:])\n",
        "\n",
        "print(history)\n",
        "\n",
        "banned = []\n",
        "\n",
        "for ngram in zip(*[l[i:] for i in range(3)]):\n",
        "    if ngram[:-1] == history:\n",
        "        banned.append(ngram[-1])\n",
        "        \n",
        "print(banned)"
      ],
      "execution_count": 0,
      "outputs": [
        {
          "output_type": "stream",
          "text": [
            "(5, 6)\n",
            "[4]\n"
          ],
          "name": "stdout"
        }
      ]
    },
    {
      "cell_type": "markdown",
      "metadata": {
        "id": "krvkDg5RsU9l",
        "colab_type": "text"
      },
      "source": [
        "## You present here:"
      ]
    },
    {
      "cell_type": "code",
      "metadata": {
        "id": "aH3G_F58sU9m",
        "colab_type": "code",
        "colab": {}
      },
      "source": [
        "# check pdf to see what you expected to present"
      ],
      "execution_count": 0,
      "outputs": []
    },
    {
      "cell_type": "code",
      "metadata": {
        "id": "sgTuMINSsU9o",
        "colab_type": "code",
        "colab": {}
      },
      "source": [
        ""
      ],
      "execution_count": 0,
      "outputs": []
    },
    {
      "cell_type": "code",
      "metadata": {
        "id": "S_DjKdC7sU9x",
        "colab_type": "code",
        "colab": {}
      },
      "source": [
        ""
      ],
      "execution_count": 0,
      "outputs": []
    }
  ]
}